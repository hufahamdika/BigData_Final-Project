{
  "nbformat": 4,
  "nbformat_minor": 0,
  "metadata": {
    "colab": {
      "provenance": [],
      "toc_visible": true,
      "authorship_tag": "ABX9TyM0IShM04HqqvsIgmh7UW9j",
      "include_colab_link": true
    },
    "kernelspec": {
      "name": "python3",
      "display_name": "Python 3"
    },
    "language_info": {
      "name": "python"
    }
  },
  "cells": [
    {
      "cell_type": "markdown",
      "metadata": {
        "id": "view-in-github",
        "colab_type": "text"
      },
      "source": [
        "<a href=\"https://colab.research.google.com/github/hufahamdika/BigData_Final-Project/blob/main/Final_Project_Classification.ipynb\" target=\"_parent\"><img src=\"https://colab.research.google.com/assets/colab-badge.svg\" alt=\"Open In Colab\"/></a>"
      ]
    },
    {
      "cell_type": "markdown",
      "source": [
        "# Big Data Final Project\n",
        "- Name : Abidjanna Zulfa Hamdika\n",
        "- Student ID : 5025201197\n",
        "- Class : Big Data A\n",
        "\n"
      ],
      "metadata": {
        "id": "kw06krcjx2wv"
      }
    },
    {
      "cell_type": "markdown",
      "source": [
        "# Load Data"
      ],
      "metadata": {
        "id": "Ia30fwXqmG66"
      }
    },
    {
      "cell_type": "code",
      "source": [
        "# set up Java Dev Kit and download Spark and Hadoop\n",
        "!apt-get install openjdk-8-jdk-headless -qq > /dev/null\n",
        "!wget https://downloads.apache.org/spark/spark-3.2.4/spark-3.2.4-bin-hadoop3.2.tgz\n",
        "\n",
        "# unpack Spark and Hadoop\n",
        "!tar xf spark-3.2.4-bin-hadoop3.2.tgz\n",
        "\n",
        "# set up home paths for Java and Spark\n",
        "import os\n",
        "os.environ[\"JAVA_HOME\"] = \"/usr/lib/jvm/java-8-openjdk-amd64\"\n",
        "os.environ[\"SPARK_HOME\"] = \"/content/spark-3.2.4-bin-hadoop3.2\""
      ],
      "metadata": {
        "colab": {
          "base_uri": "https://localhost:8080/"
        },
        "id": "eWNqwqYlneEN",
        "outputId": "15c9cc9c-0105-4a45-84ed-1770335f9085"
      },
      "execution_count": 2,
      "outputs": [
        {
          "output_type": "stream",
          "name": "stdout",
          "text": [
            "--2023-06-15 16:53:30--  https://downloads.apache.org/spark/spark-3.2.4/spark-3.2.4-bin-hadoop3.2.tgz\n",
            "Resolving downloads.apache.org (downloads.apache.org)... 88.99.95.219, 135.181.214.104, 2a01:4f9:3a:2c57::2, ...\n",
            "Connecting to downloads.apache.org (downloads.apache.org)|88.99.95.219|:443... connected.\n",
            "HTTP request sent, awaiting response... 200 OK\n",
            "Length: 301183180 (287M) [application/x-gzip]\n",
            "Saving to: ‘spark-3.2.4-bin-hadoop3.2.tgz’\n",
            "\n",
            "spark-3.2.4-bin-had 100%[===================>] 287.23M  19.3MB/s    in 16s     \n",
            "\n",
            "2023-06-15 16:53:47 (18.1 MB/s) - ‘spark-3.2.4-bin-hadoop3.2.tgz’ saved [301183180/301183180]\n",
            "\n"
          ]
        }
      ]
    },
    {
      "cell_type": "code",
      "source": [
        "# install, import and initialise findspark\n",
        "!pip install -q findspark\n",
        "import findspark\n",
        "findspark.init()\n",
        "\n",
        "# set up spark session\n",
        "from pyspark.sql import SparkSession\n",
        "spark = SparkSession.builder\\\n",
        "        .master(\"local\")\\\n",
        "        .appName(\"Colab\")\\\n",
        "        .config('spark.ui.port', '4050')\\\n",
        "        .getOrCreate()"
      ],
      "metadata": {
        "id": "EpxNrOMvnCDq"
      },
      "execution_count": 3,
      "outputs": []
    },
    {
      "cell_type": "code",
      "source": [
        "!pip install opendatasets"
      ],
      "metadata": {
        "colab": {
          "base_uri": "https://localhost:8080/"
        },
        "id": "Jn3oBUSR-fJB",
        "outputId": "efca9a90-da5b-448c-fa6e-7e3bf3ed53b4"
      },
      "execution_count": 4,
      "outputs": [
        {
          "output_type": "stream",
          "name": "stdout",
          "text": [
            "Looking in indexes: https://pypi.org/simple, https://us-python.pkg.dev/colab-wheels/public/simple/\n",
            "Collecting opendatasets\n",
            "  Downloading opendatasets-0.1.22-py3-none-any.whl (15 kB)\n",
            "Requirement already satisfied: tqdm in /usr/local/lib/python3.10/dist-packages (from opendatasets) (4.65.0)\n",
            "Requirement already satisfied: kaggle in /usr/local/lib/python3.10/dist-packages (from opendatasets) (1.5.13)\n",
            "Requirement already satisfied: click in /usr/local/lib/python3.10/dist-packages (from opendatasets) (8.1.3)\n",
            "Requirement already satisfied: six>=1.10 in /usr/local/lib/python3.10/dist-packages (from kaggle->opendatasets) (1.16.0)\n",
            "Requirement already satisfied: certifi in /usr/local/lib/python3.10/dist-packages (from kaggle->opendatasets) (2022.12.7)\n",
            "Requirement already satisfied: python-dateutil in /usr/local/lib/python3.10/dist-packages (from kaggle->opendatasets) (2.8.2)\n",
            "Requirement already satisfied: requests in /usr/local/lib/python3.10/dist-packages (from kaggle->opendatasets) (2.27.1)\n",
            "Requirement already satisfied: python-slugify in /usr/local/lib/python3.10/dist-packages (from kaggle->opendatasets) (8.0.1)\n",
            "Requirement already satisfied: urllib3 in /usr/local/lib/python3.10/dist-packages (from kaggle->opendatasets) (1.26.15)\n",
            "Requirement already satisfied: text-unidecode>=1.3 in /usr/local/lib/python3.10/dist-packages (from python-slugify->kaggle->opendatasets) (1.3)\n",
            "Requirement already satisfied: charset-normalizer~=2.0.0 in /usr/local/lib/python3.10/dist-packages (from requests->kaggle->opendatasets) (2.0.12)\n",
            "Requirement already satisfied: idna<4,>=2.5 in /usr/local/lib/python3.10/dist-packages (from requests->kaggle->opendatasets) (3.4)\n",
            "Installing collected packages: opendatasets\n",
            "Successfully installed opendatasets-0.1.22\n"
          ]
        }
      ]
    },
    {
      "cell_type": "code",
      "source": [
        "# Download dataset from kaggle link\n",
        "\n",
        "import opendatasets as od\n",
        "od.download(\"https://www.kaggle.com/datasets/ifteshanajnin/carinsuranceclaimprediction-classification?select=train.csv\")"
      ],
      "metadata": {
        "colab": {
          "base_uri": "https://localhost:8080/"
        },
        "id": "hVPM7SlU-gBb",
        "outputId": "35d89b35-159e-432d-e1fb-8f1d3e2ab079"
      },
      "execution_count": 5,
      "outputs": [
        {
          "output_type": "stream",
          "name": "stdout",
          "text": [
            "Please provide your Kaggle credentials to download this dataset. Learn more: http://bit.ly/kaggle-creds\n",
            "Your Kaggle username: marvesco\n",
            "Your Kaggle Key: ··········\n",
            "Downloading carinsuranceclaimprediction-classification.zip to ./carinsuranceclaimprediction-classification\n"
          ]
        },
        {
          "output_type": "stream",
          "name": "stderr",
          "text": [
            "100%|██████████| 1.96M/1.96M [00:00<00:00, 144MB/s]"
          ]
        },
        {
          "output_type": "stream",
          "name": "stdout",
          "text": [
            "\n"
          ]
        },
        {
          "output_type": "stream",
          "name": "stderr",
          "text": [
            "\n"
          ]
        }
      ]
    },
    {
      "cell_type": "code",
      "source": [
        "from pyspark.sql.functions import when, count, isnull, isnan, col, mean, stddev\n",
        "from functools import reduce\n",
        "from pyspark.ml.feature import VectorAssembler, StandardScaler\n",
        "from pyspark.ml.stat import Correlation\n",
        "import pandas as pd\n",
        "import matplotlib.pyplot as plt\n",
        "import math\n",
        "from pyspark.ml.feature import StringIndexer, OneHotEncoder\n",
        "from pyspark.ml.classification import LogisticRegression\n",
        "from pyspark.ml.evaluation import BinaryClassificationEvaluator, MulticlassClassificationEvaluator, MulticlassMetrics\n",
        "from pyspark.ml.tuning import ParamGridBuilder, CrossValidator"
      ],
      "metadata": {
        "id": "-xdeHGHJAXoL"
      },
      "execution_count": 339,
      "outputs": []
    },
    {
      "cell_type": "code",
      "source": [
        "# Read dataset as csv\n",
        "df = spark.read.csv('carinsuranceclaimprediction-classification/train.csv', header=True, inferSchema=True)\n",
        "df.show()"
      ],
      "metadata": {
        "colab": {
          "base_uri": "https://localhost:8080/"
        },
        "id": "rv8Z8jhN-wMh",
        "outputId": "9824be86-b82a-46e5-a1d7-ed4f57575a3a"
      },
      "execution_count": 144,
      "outputs": [
        {
          "output_type": "stream",
          "name": "stdout",
          "text": [
            "+---------+-----------------+----------+-------------------+------------+------------------+----+-------+-----+---------+--------------+-----------------+--------------------+-------+------+----------------------+-------+------------------+-----------------+----------------+------------+--------+-----------------+--------+-------------+--------------+------+-----+------+------------+-------------------+--------------------+---------------------+-----------------------+---------------+-------------------+------------------+-----------------+--------------------------------+-----------------------------+------+--------------+-----------+--------+\n",
            "|policy_id|    policy_tenure|age_of_car|age_of_policyholder|area_cluster|population_density|make|segment|model|fuel_type|    max_torque|        max_power|         engine_type|airbags|is_esc|is_adjustable_steering|is_tpms|is_parking_sensors|is_parking_camera|rear_brakes_type|displacement|cylinder|transmission_type|gear_box|steering_type|turning_radius|length|width|height|gross_weight|is_front_fog_lights|is_rear_window_wiper|is_rear_window_washer|is_rear_window_defogger|is_brake_assist|is_power_door_locks|is_central_locking|is_power_steering|is_driver_seat_height_adjustable|is_day_night_rear_view_mirror|is_ecw|is_speed_alert|ncap_rating|is_claim|\n",
            "+---------+-----------------+----------+-------------------+------------+------------------+----+-------+-----+---------+--------------+-----------------+--------------------+-------+------+----------------------+-------+------------------+-----------------+----------------+------------+--------+-----------------+--------+-------------+--------------+------+-----+------+------------+-------------------+--------------------+---------------------+-----------------------+---------------+-------------------+------------------+-----------------+--------------------------------+-----------------------------+------+--------------+-----------+--------+\n",
            "|  ID00001|0.515873589958172|      0.05|  0.644230769230769|          C1|              4990|   1|      A|   M1|      CNG|  60Nm@3500rpm| 40.36bhp@6000rpm|   F8D Petrol Engine|      2|    No|                    No|     No|               Yes|               No|            Drum|         796|       3|           Manual|       5|        Power|           4.6|  3445| 1515|  1475|        1185|                 No|                  No|                   No|                     No|             No|                 No|                No|              Yes|                              No|                           No|    No|           Yes|          0|       0|\n",
            "|  ID00002|0.672618513547733|      0.02|              0.375|          C2|             27003|   1|      A|   M1|      CNG|  60Nm@3500rpm| 40.36bhp@6000rpm|   F8D Petrol Engine|      2|    No|                    No|     No|               Yes|               No|            Drum|         796|       3|           Manual|       5|        Power|           4.6|  3445| 1515|  1475|        1185|                 No|                  No|                   No|                     No|             No|                 No|                No|              Yes|                              No|                           No|    No|           Yes|          0|       0|\n",
            "|  ID00003|0.841110255796233|      0.02|  0.384615384615385|          C3|              4076|   1|      A|   M1|      CNG|  60Nm@3500rpm| 40.36bhp@6000rpm|   F8D Petrol Engine|      2|    No|                    No|     No|               Yes|               No|            Drum|         796|       3|           Manual|       5|        Power|           4.6|  3445| 1515|  1475|        1185|                 No|                  No|                   No|                     No|             No|                 No|                No|              Yes|                              No|                           No|    No|           Yes|          0|       0|\n",
            "|  ID00004|0.900276558749967|      0.11|  0.432692307692308|          C4|             21622|   1|     C1|   M2|   Petrol| 113Nm@4400rpm| 88.50bhp@6000rpm|  1.2 L K12N Dualjet|      2|   Yes|                   Yes|     No|               Yes|              Yes|            Drum|        1197|       4|        Automatic|       5|     Electric|           4.8|  3995| 1735|  1515|        1335|                Yes|                  No|                   No|                    Yes|            Yes|                Yes|               Yes|              Yes|                             Yes|                          Yes|   Yes|           Yes|          2|       0|\n",
            "|  ID00005|0.596402813108729|      0.11|  0.634615384615385|          C5|             34738|   2|      A|   M3|   Petrol|  91Nm@4250rpm| 67.06bhp@5500rpm|             1.0 SCe|      2|    No|                    No|     No|                No|              Yes|            Drum|         999|       3|        Automatic|       5|     Electric|           5.0|  3731| 1579|  1490|        1155|                 No|                  No|                   No|                     No|             No|                Yes|               Yes|              Yes|                              No|                          Yes|   Yes|           Yes|          2|       0|\n",
            "|  ID00006| 1.01870853782142|      0.07|  0.519230769230769|          C6|             13051|   3|     C2|   M4|   Diesel| 250Nm@2750rpm|113.45bhp@4000rpm|       1.5 L U2 CRDi|      6|   Yes|                   Yes|    Yes|               Yes|              Yes|            Disc|        1493|       4|        Automatic|       6|        Power|           5.2|  4300| 1790|  1635|        1720|                Yes|                 Yes|                  Yes|                    Yes|            Yes|                Yes|               Yes|              Yes|                             Yes|                           No|   Yes|           Yes|          3|       0|\n",
            "|  ID00007|0.097992157807911|      0.16|  0.403846153846154|          C7|              6112|   4|     B2|   M5|   Diesel| 200Nm@3000rpm| 88.77bhp@4000rpm|1.5 Turbocharged ...|      2|    No|                   Yes|     No|               Yes|               No|            Drum|        1497|       4|           Manual|       5|     Electric|           5.0|  3990| 1755|  1523|        1490|                 No|                  No|                   No|                     No|             No|                Yes|               Yes|              Yes|                              No|                           No|   Yes|           Yes|          5|       0|\n",
            "|  ID00008|0.509084671398517|      0.14|  0.423076923076923|          C8|              8794|   1|     B2|   M6|   Petrol| 113Nm@4400rpm| 88.50bhp@6000rpm|   K Series Dual jet|      2|    No|                   Yes|     No|               Yes|               No|            Drum|        1197|       4|           Manual|       5|     Electric|           4.8|  3845| 1735|  1530|        1335|                Yes|                  No|                   No|                     No|            Yes|                Yes|               Yes|              Yes|                             Yes|                          Yes|   Yes|           Yes|          2|       0|\n",
            "|  ID00009|0.282393518287139|      0.07|  0.298076923076923|          C7|              6112|   3|     C2|   M4|   Diesel| 250Nm@2750rpm|113.45bhp@4000rpm|       1.5 L U2 CRDi|      6|   Yes|                   Yes|    Yes|               Yes|              Yes|            Disc|        1493|       4|        Automatic|       6|        Power|           5.2|  4300| 1790|  1635|        1720|                Yes|                 Yes|                  Yes|                    Yes|            Yes|                Yes|               Yes|              Yes|                             Yes|                           No|   Yes|           Yes|          3|       0|\n",
            "|  ID00010|0.566255432742967|      0.04|  0.442307692307692|          C9|             17804|   1|     B2|   M7|   Petrol| 113Nm@4400rpm| 88.50bhp@6000rpm|1.2 L K Series En...|      6|   Yes|                   Yes|     No|               Yes|              Yes|            Drum|        1197|       4|        Automatic|       5|     Electric|          4.85|  3990| 1745|  1500|        1410|                Yes|                 Yes|                  Yes|                    Yes|            Yes|                Yes|               Yes|              Yes|                             Yes|                          Yes|   Yes|           Yes|          0|       0|\n",
            "|  ID00011|0.951416171038409|      0.01|  0.596153846153846|          C5|             34738|   1|      A|   M1|      CNG|  60Nm@3500rpm| 40.36bhp@6000rpm|   F8D Petrol Engine|      2|    No|                    No|     No|               Yes|               No|            Drum|         796|       3|           Manual|       5|        Power|           4.6|  3445| 1515|  1475|        1185|                 No|                  No|                   No|                     No|             No|                 No|                No|              Yes|                              No|                           No|    No|           Yes|          0|       0|\n",
            "|  ID00012|0.083180015193718|      0.12|  0.298076923076923|          C3|              4076|   1|     B1|   M8|      CNG|82.1Nm@3400rpm| 55.92bhp@5300rpm|                K10C|      2|    No|                    No|     No|               Yes|               No|            Drum|         998|       3|           Manual|       5|        Power|           4.7|  3655| 1620|  1675|        1340|                 No|                  No|                   No|                     No|             No|                Yes|               Yes|              Yes|                              No|                           No|   Yes|           Yes|          2|       0|\n",
            "|  ID00013|0.045833998629361|      0.03|  0.480769230769231|          C3|              4076|   1|     B2|   M6|   Petrol| 113Nm@4400rpm| 88.50bhp@6000rpm|   K Series Dual jet|      2|    No|                   Yes|     No|               Yes|               No|            Drum|        1197|       4|           Manual|       5|     Electric|           4.8|  3845| 1735|  1530|        1335|                Yes|                  No|                   No|                     No|            Yes|                Yes|               Yes|              Yes|                             Yes|                          Yes|   Yes|           Yes|          2|       1|\n",
            "|  ID00014|0.520336974243094|       0.1|  0.307692307692308|         C10|             73430|   1|     B2|   M6|   Petrol| 113Nm@4400rpm| 88.50bhp@6000rpm|   K Series Dual jet|      2|    No|                   Yes|     No|               Yes|               No|            Drum|        1197|       4|           Manual|       5|     Electric|           4.8|  3845| 1735|  1530|        1335|                Yes|                  No|                   No|                     No|            Yes|                Yes|               Yes|              Yes|                             Yes|                          Yes|   Yes|           Yes|          2|       0|\n",
            "|  ID00015|0.213588587564883|      0.04|  0.403846153846154|         C11|              6108|   1|      A|   M1|      CNG|  60Nm@3500rpm| 40.36bhp@6000rpm|   F8D Petrol Engine|      2|    No|                    No|     No|               Yes|               No|            Drum|         796|       3|           Manual|       5|        Power|           4.6|  3445| 1515|  1475|        1185|                 No|                  No|                   No|                     No|             No|                 No|                No|              Yes|                              No|                           No|    No|           Yes|          0|       0|\n",
            "|  ID00016|0.897770850967484|      0.04|  0.576923076923077|          C5|             34738|   3|     C2|   M4|   Diesel| 250Nm@2750rpm|113.45bhp@4000rpm|       1.5 L U2 CRDi|      6|   Yes|                   Yes|    Yes|               Yes|              Yes|            Disc|        1493|       4|        Automatic|       6|        Power|           5.2|  4300| 1790|  1635|        1720|                Yes|                 Yes|                  Yes|                    Yes|            Yes|                Yes|               Yes|              Yes|                             Yes|                           No|   Yes|           Yes|          3|       0|\n",
            "|  ID00017|0.321144554416969|      0.03|  0.605769230769231|          C2|             27003|   1|      A|   M1|      CNG|  60Nm@3500rpm| 40.36bhp@6000rpm|   F8D Petrol Engine|      2|    No|                    No|     No|               Yes|               No|            Drum|         796|       3|           Manual|       5|        Power|           4.6|  3445| 1515|  1475|        1185|                 No|                  No|                   No|                     No|             No|                 No|                No|              Yes|                              No|                           No|    No|           Yes|          0|       0|\n",
            "|  ID00018| 0.24142124790882|      0.12|  0.471153846153846|          C9|             17804|   5|     C1|   M9|   Diesel| 200Nm@1750rpm| 97.89bhp@3600rpm|              i-DTEC|      2|    No|                   Yes|     No|               Yes|              Yes|            Drum|        1498|       4|           Manual|       5|     Electric|           4.9|  3995| 1695|  1501|        1051|                Yes|                  No|                   No|                    Yes|             No|                Yes|               Yes|              Yes|                             Yes|                          Yes|   Yes|           Yes|          4|       0|\n",
            "|  ID00019| 0.29596672924548|      0.12|                0.5|          C8|              8794|   3|     C2|   M4|   Diesel| 250Nm@2750rpm|113.45bhp@4000rpm|       1.5 L U2 CRDi|      6|   Yes|                   Yes|    Yes|               Yes|              Yes|            Disc|        1493|       4|        Automatic|       6|        Power|           5.2|  4300| 1790|  1635|        1720|                Yes|                 Yes|                  Yes|                    Yes|            Yes|                Yes|               Yes|              Yes|                             Yes|                           No|   Yes|           Yes|          3|       0|\n",
            "|  ID00020|0.758622595499839|      0.09|  0.394230769230769|          C5|             34738|   1|     B2|   M6|   Petrol| 113Nm@4400rpm| 88.50bhp@6000rpm|   K Series Dual jet|      2|    No|                   Yes|     No|               Yes|               No|            Drum|        1197|       4|           Manual|       5|     Electric|           4.8|  3845| 1735|  1530|        1335|                Yes|                  No|                   No|                     No|            Yes|                Yes|               Yes|              Yes|                             Yes|                          Yes|   Yes|           Yes|          2|       1|\n",
            "+---------+-----------------+----------+-------------------+------------+------------------+----+-------+-----+---------+--------------+-----------------+--------------------+-------+------+----------------------+-------+------------------+-----------------+----------------+------------+--------+-----------------+--------+-------------+--------------+------+-----+------+------------+-------------------+--------------------+---------------------+-----------------------+---------------+-------------------+------------------+-----------------+--------------------------------+-----------------------------+------+--------------+-----------+--------+\n",
            "only showing top 20 rows\n",
            "\n"
          ]
        }
      ]
    },
    {
      "cell_type": "code",
      "source": [
        "df.printSchema()"
      ],
      "metadata": {
        "colab": {
          "base_uri": "https://localhost:8080/"
        },
        "id": "QtQL_SaI_DZ_",
        "outputId": "233fc969-1592-4e58-bfca-913b4125b247"
      },
      "execution_count": 145,
      "outputs": [
        {
          "output_type": "stream",
          "name": "stdout",
          "text": [
            "root\n",
            " |-- policy_id: string (nullable = true)\n",
            " |-- policy_tenure: double (nullable = true)\n",
            " |-- age_of_car: double (nullable = true)\n",
            " |-- age_of_policyholder: double (nullable = true)\n",
            " |-- area_cluster: string (nullable = true)\n",
            " |-- population_density: integer (nullable = true)\n",
            " |-- make: integer (nullable = true)\n",
            " |-- segment: string (nullable = true)\n",
            " |-- model: string (nullable = true)\n",
            " |-- fuel_type: string (nullable = true)\n",
            " |-- max_torque: string (nullable = true)\n",
            " |-- max_power: string (nullable = true)\n",
            " |-- engine_type: string (nullable = true)\n",
            " |-- airbags: integer (nullable = true)\n",
            " |-- is_esc: string (nullable = true)\n",
            " |-- is_adjustable_steering: string (nullable = true)\n",
            " |-- is_tpms: string (nullable = true)\n",
            " |-- is_parking_sensors: string (nullable = true)\n",
            " |-- is_parking_camera: string (nullable = true)\n",
            " |-- rear_brakes_type: string (nullable = true)\n",
            " |-- displacement: integer (nullable = true)\n",
            " |-- cylinder: integer (nullable = true)\n",
            " |-- transmission_type: string (nullable = true)\n",
            " |-- gear_box: integer (nullable = true)\n",
            " |-- steering_type: string (nullable = true)\n",
            " |-- turning_radius: double (nullable = true)\n",
            " |-- length: integer (nullable = true)\n",
            " |-- width: integer (nullable = true)\n",
            " |-- height: integer (nullable = true)\n",
            " |-- gross_weight: integer (nullable = true)\n",
            " |-- is_front_fog_lights: string (nullable = true)\n",
            " |-- is_rear_window_wiper: string (nullable = true)\n",
            " |-- is_rear_window_washer: string (nullable = true)\n",
            " |-- is_rear_window_defogger: string (nullable = true)\n",
            " |-- is_brake_assist: string (nullable = true)\n",
            " |-- is_power_door_locks: string (nullable = true)\n",
            " |-- is_central_locking: string (nullable = true)\n",
            " |-- is_power_steering: string (nullable = true)\n",
            " |-- is_driver_seat_height_adjustable: string (nullable = true)\n",
            " |-- is_day_night_rear_view_mirror: string (nullable = true)\n",
            " |-- is_ecw: string (nullable = true)\n",
            " |-- is_speed_alert: string (nullable = true)\n",
            " |-- ncap_rating: integer (nullable = true)\n",
            " |-- is_claim: integer (nullable = true)\n",
            "\n"
          ]
        }
      ]
    },
    {
      "cell_type": "code",
      "source": [
        "# Check dataset shape\n",
        "print(f\"Shape: ({df.count()}, {len(df.columns)})\")"
      ],
      "metadata": {
        "colab": {
          "base_uri": "https://localhost:8080/"
        },
        "id": "Z0NEDJHd_cGm",
        "outputId": "390e00ab-ba88-4cd8-c26a-2e06001a2fd3"
      },
      "execution_count": 146,
      "outputs": [
        {
          "output_type": "stream",
          "name": "stdout",
          "text": [
            "Shape: (58592, 44)\n"
          ]
        }
      ]
    },
    {
      "cell_type": "code",
      "source": [
        "cols = df.columns\n",
        "\n",
        "# show count of when the column is null for each of those columns\n",
        "df.select([count(when(isnull(c), c)).alias(c) for c in cols]).show()"
      ],
      "metadata": {
        "colab": {
          "base_uri": "https://localhost:8080/"
        },
        "id": "zK1wAJ3wAbej",
        "outputId": "1bd306b1-fe46-4218-ab84-82fb68459803"
      },
      "execution_count": 147,
      "outputs": [
        {
          "output_type": "stream",
          "name": "stdout",
          "text": [
            "+---------+-------------+----------+-------------------+------------+------------------+----+-------+-----+---------+----------+---------+-----------+-------+------+----------------------+-------+------------------+-----------------+----------------+------------+--------+-----------------+--------+-------------+--------------+------+-----+------+------------+-------------------+--------------------+---------------------+-----------------------+---------------+-------------------+------------------+-----------------+--------------------------------+-----------------------------+------+--------------+-----------+--------+\n",
            "|policy_id|policy_tenure|age_of_car|age_of_policyholder|area_cluster|population_density|make|segment|model|fuel_type|max_torque|max_power|engine_type|airbags|is_esc|is_adjustable_steering|is_tpms|is_parking_sensors|is_parking_camera|rear_brakes_type|displacement|cylinder|transmission_type|gear_box|steering_type|turning_radius|length|width|height|gross_weight|is_front_fog_lights|is_rear_window_wiper|is_rear_window_washer|is_rear_window_defogger|is_brake_assist|is_power_door_locks|is_central_locking|is_power_steering|is_driver_seat_height_adjustable|is_day_night_rear_view_mirror|is_ecw|is_speed_alert|ncap_rating|is_claim|\n",
            "+---------+-------------+----------+-------------------+------------+------------------+----+-------+-----+---------+----------+---------+-----------+-------+------+----------------------+-------+------------------+-----------------+----------------+------------+--------+-----------------+--------+-------------+--------------+------+-----+------+------------+-------------------+--------------------+---------------------+-----------------------+---------------+-------------------+------------------+-----------------+--------------------------------+-----------------------------+------+--------------+-----------+--------+\n",
            "|        0|            0|         0|                  0|           0|                 0|   0|      0|    0|        0|         0|        0|          0|      0|     0|                     0|      0|                 0|                0|               0|           0|       0|                0|       0|            0|             0|     0|    0|     0|           0|                  0|                   0|                    0|                      0|              0|                  0|                 0|                0|                               0|                            0|     0|             0|          0|       0|\n",
            "+---------+-------------+----------+-------------------+------------+------------------+----+-------+-----+---------+----------+---------+-----------+-------+------+----------------------+-------+------------------+-----------------+----------------+------------+--------+-----------------+--------+-------------+--------------+------+-----+------+------------+-------------------+--------------------+---------------------+-----------------------+---------------+-------------------+------------------+-----------------+--------------------------------+-----------------------------+------+--------------+-----------+--------+\n",
            "\n"
          ]
        }
      ]
    },
    {
      "cell_type": "code",
      "source": [
        "# Renaming dataset so that it don't use a special characters\n",
        "oldColumns = df.columns\n",
        "newColumns = ['policy_id', 'policy_tenure', 'age_of_car', 'age_of_policyholder',\n",
        "  'area_cluster', 'population_density', 'make', 'segment', 'model', 'fuel_type',\n",
        "  'max_torque', 'max_power', 'engine_type', 'airbags', 'is_esc', 'is_adjustable_steering',\n",
        "  'is_tpms', 'is_parking_sensors', 'is_parking_camera', 'rear_brakes_type', 'displacement',\n",
        " 'cylinder', 'transmission_type', 'gear_box', 'steering_type', 'turning_radius',\n",
        " 'length', 'width', 'height', 'gross_weight', 'is_front_fog_lights', 'is_rear_window_wiper',\n",
        " 'is_rear_window_washer', 'is_rear_window_defogger', 'is_brake_assist', 'is_power_door_locks',\n",
        " 'is_central_locking', 'is_power_steering', 'is_driver_seat_height_adjustable',\n",
        " 'is_day_night_rear_view_mirror', 'is_ecw', 'is_speed_alert','ncap_rating','is_claim']\n",
        "\n",
        "df = reduce(lambda df, idx: df.withColumnRenamed(oldColumns[idx], newColumns[idx]), range(len(oldColumns)), df)\n",
        "df.printSchema()\n",
        "df.show()"
      ],
      "metadata": {
        "colab": {
          "base_uri": "https://localhost:8080/"
        },
        "id": "_XdCjV46dPEc",
        "outputId": "8b92de12-6c57-4551-958e-916eaff11b09"
      },
      "execution_count": 148,
      "outputs": [
        {
          "output_type": "stream",
          "name": "stdout",
          "text": [
            "root\n",
            " |-- policy_id: string (nullable = true)\n",
            " |-- policy_tenure: double (nullable = true)\n",
            " |-- age_of_car: double (nullable = true)\n",
            " |-- age_of_policyholder: double (nullable = true)\n",
            " |-- area_cluster: string (nullable = true)\n",
            " |-- population_density: integer (nullable = true)\n",
            " |-- make: integer (nullable = true)\n",
            " |-- segment: string (nullable = true)\n",
            " |-- model: string (nullable = true)\n",
            " |-- fuel_type: string (nullable = true)\n",
            " |-- max_torque: string (nullable = true)\n",
            " |-- max_power: string (nullable = true)\n",
            " |-- engine_type: string (nullable = true)\n",
            " |-- airbags: integer (nullable = true)\n",
            " |-- is_esc: string (nullable = true)\n",
            " |-- is_adjustable_steering: string (nullable = true)\n",
            " |-- is_tpms: string (nullable = true)\n",
            " |-- is_parking_sensors: string (nullable = true)\n",
            " |-- is_parking_camera: string (nullable = true)\n",
            " |-- rear_brakes_type: string (nullable = true)\n",
            " |-- displacement: integer (nullable = true)\n",
            " |-- cylinder: integer (nullable = true)\n",
            " |-- transmission_type: string (nullable = true)\n",
            " |-- gear_box: integer (nullable = true)\n",
            " |-- steering_type: string (nullable = true)\n",
            " |-- turning_radius: double (nullable = true)\n",
            " |-- length: integer (nullable = true)\n",
            " |-- width: integer (nullable = true)\n",
            " |-- height: integer (nullable = true)\n",
            " |-- gross_weight: integer (nullable = true)\n",
            " |-- is_front_fog_lights: string (nullable = true)\n",
            " |-- is_rear_window_wiper: string (nullable = true)\n",
            " |-- is_rear_window_washer: string (nullable = true)\n",
            " |-- is_rear_window_defogger: string (nullable = true)\n",
            " |-- is_brake_assist: string (nullable = true)\n",
            " |-- is_power_door_locks: string (nullable = true)\n",
            " |-- is_central_locking: string (nullable = true)\n",
            " |-- is_power_steering: string (nullable = true)\n",
            " |-- is_driver_seat_height_adjustable: string (nullable = true)\n",
            " |-- is_day_night_rear_view_mirror: string (nullable = true)\n",
            " |-- is_ecw: string (nullable = true)\n",
            " |-- is_speed_alert: string (nullable = true)\n",
            " |-- ncap_rating: integer (nullable = true)\n",
            " |-- is_claim: integer (nullable = true)\n",
            "\n",
            "+---------+-----------------+----------+-------------------+------------+------------------+----+-------+-----+---------+--------------+-----------------+--------------------+-------+------+----------------------+-------+------------------+-----------------+----------------+------------+--------+-----------------+--------+-------------+--------------+------+-----+------+------------+-------------------+--------------------+---------------------+-----------------------+---------------+-------------------+------------------+-----------------+--------------------------------+-----------------------------+------+--------------+-----------+--------+\n",
            "|policy_id|    policy_tenure|age_of_car|age_of_policyholder|area_cluster|population_density|make|segment|model|fuel_type|    max_torque|        max_power|         engine_type|airbags|is_esc|is_adjustable_steering|is_tpms|is_parking_sensors|is_parking_camera|rear_brakes_type|displacement|cylinder|transmission_type|gear_box|steering_type|turning_radius|length|width|height|gross_weight|is_front_fog_lights|is_rear_window_wiper|is_rear_window_washer|is_rear_window_defogger|is_brake_assist|is_power_door_locks|is_central_locking|is_power_steering|is_driver_seat_height_adjustable|is_day_night_rear_view_mirror|is_ecw|is_speed_alert|ncap_rating|is_claim|\n",
            "+---------+-----------------+----------+-------------------+------------+------------------+----+-------+-----+---------+--------------+-----------------+--------------------+-------+------+----------------------+-------+------------------+-----------------+----------------+------------+--------+-----------------+--------+-------------+--------------+------+-----+------+------------+-------------------+--------------------+---------------------+-----------------------+---------------+-------------------+------------------+-----------------+--------------------------------+-----------------------------+------+--------------+-----------+--------+\n",
            "|  ID00001|0.515873589958172|      0.05|  0.644230769230769|          C1|              4990|   1|      A|   M1|      CNG|  60Nm@3500rpm| 40.36bhp@6000rpm|   F8D Petrol Engine|      2|    No|                    No|     No|               Yes|               No|            Drum|         796|       3|           Manual|       5|        Power|           4.6|  3445| 1515|  1475|        1185|                 No|                  No|                   No|                     No|             No|                 No|                No|              Yes|                              No|                           No|    No|           Yes|          0|       0|\n",
            "|  ID00002|0.672618513547733|      0.02|              0.375|          C2|             27003|   1|      A|   M1|      CNG|  60Nm@3500rpm| 40.36bhp@6000rpm|   F8D Petrol Engine|      2|    No|                    No|     No|               Yes|               No|            Drum|         796|       3|           Manual|       5|        Power|           4.6|  3445| 1515|  1475|        1185|                 No|                  No|                   No|                     No|             No|                 No|                No|              Yes|                              No|                           No|    No|           Yes|          0|       0|\n",
            "|  ID00003|0.841110255796233|      0.02|  0.384615384615385|          C3|              4076|   1|      A|   M1|      CNG|  60Nm@3500rpm| 40.36bhp@6000rpm|   F8D Petrol Engine|      2|    No|                    No|     No|               Yes|               No|            Drum|         796|       3|           Manual|       5|        Power|           4.6|  3445| 1515|  1475|        1185|                 No|                  No|                   No|                     No|             No|                 No|                No|              Yes|                              No|                           No|    No|           Yes|          0|       0|\n",
            "|  ID00004|0.900276558749967|      0.11|  0.432692307692308|          C4|             21622|   1|     C1|   M2|   Petrol| 113Nm@4400rpm| 88.50bhp@6000rpm|  1.2 L K12N Dualjet|      2|   Yes|                   Yes|     No|               Yes|              Yes|            Drum|        1197|       4|        Automatic|       5|     Electric|           4.8|  3995| 1735|  1515|        1335|                Yes|                  No|                   No|                    Yes|            Yes|                Yes|               Yes|              Yes|                             Yes|                          Yes|   Yes|           Yes|          2|       0|\n",
            "|  ID00005|0.596402813108729|      0.11|  0.634615384615385|          C5|             34738|   2|      A|   M3|   Petrol|  91Nm@4250rpm| 67.06bhp@5500rpm|             1.0 SCe|      2|    No|                    No|     No|                No|              Yes|            Drum|         999|       3|        Automatic|       5|     Electric|           5.0|  3731| 1579|  1490|        1155|                 No|                  No|                   No|                     No|             No|                Yes|               Yes|              Yes|                              No|                          Yes|   Yes|           Yes|          2|       0|\n",
            "|  ID00006| 1.01870853782142|      0.07|  0.519230769230769|          C6|             13051|   3|     C2|   M4|   Diesel| 250Nm@2750rpm|113.45bhp@4000rpm|       1.5 L U2 CRDi|      6|   Yes|                   Yes|    Yes|               Yes|              Yes|            Disc|        1493|       4|        Automatic|       6|        Power|           5.2|  4300| 1790|  1635|        1720|                Yes|                 Yes|                  Yes|                    Yes|            Yes|                Yes|               Yes|              Yes|                             Yes|                           No|   Yes|           Yes|          3|       0|\n",
            "|  ID00007|0.097992157807911|      0.16|  0.403846153846154|          C7|              6112|   4|     B2|   M5|   Diesel| 200Nm@3000rpm| 88.77bhp@4000rpm|1.5 Turbocharged ...|      2|    No|                   Yes|     No|               Yes|               No|            Drum|        1497|       4|           Manual|       5|     Electric|           5.0|  3990| 1755|  1523|        1490|                 No|                  No|                   No|                     No|             No|                Yes|               Yes|              Yes|                              No|                           No|   Yes|           Yes|          5|       0|\n",
            "|  ID00008|0.509084671398517|      0.14|  0.423076923076923|          C8|              8794|   1|     B2|   M6|   Petrol| 113Nm@4400rpm| 88.50bhp@6000rpm|   K Series Dual jet|      2|    No|                   Yes|     No|               Yes|               No|            Drum|        1197|       4|           Manual|       5|     Electric|           4.8|  3845| 1735|  1530|        1335|                Yes|                  No|                   No|                     No|            Yes|                Yes|               Yes|              Yes|                             Yes|                          Yes|   Yes|           Yes|          2|       0|\n",
            "|  ID00009|0.282393518287139|      0.07|  0.298076923076923|          C7|              6112|   3|     C2|   M4|   Diesel| 250Nm@2750rpm|113.45bhp@4000rpm|       1.5 L U2 CRDi|      6|   Yes|                   Yes|    Yes|               Yes|              Yes|            Disc|        1493|       4|        Automatic|       6|        Power|           5.2|  4300| 1790|  1635|        1720|                Yes|                 Yes|                  Yes|                    Yes|            Yes|                Yes|               Yes|              Yes|                             Yes|                           No|   Yes|           Yes|          3|       0|\n",
            "|  ID00010|0.566255432742967|      0.04|  0.442307692307692|          C9|             17804|   1|     B2|   M7|   Petrol| 113Nm@4400rpm| 88.50bhp@6000rpm|1.2 L K Series En...|      6|   Yes|                   Yes|     No|               Yes|              Yes|            Drum|        1197|       4|        Automatic|       5|     Electric|          4.85|  3990| 1745|  1500|        1410|                Yes|                 Yes|                  Yes|                    Yes|            Yes|                Yes|               Yes|              Yes|                             Yes|                          Yes|   Yes|           Yes|          0|       0|\n",
            "|  ID00011|0.951416171038409|      0.01|  0.596153846153846|          C5|             34738|   1|      A|   M1|      CNG|  60Nm@3500rpm| 40.36bhp@6000rpm|   F8D Petrol Engine|      2|    No|                    No|     No|               Yes|               No|            Drum|         796|       3|           Manual|       5|        Power|           4.6|  3445| 1515|  1475|        1185|                 No|                  No|                   No|                     No|             No|                 No|                No|              Yes|                              No|                           No|    No|           Yes|          0|       0|\n",
            "|  ID00012|0.083180015193718|      0.12|  0.298076923076923|          C3|              4076|   1|     B1|   M8|      CNG|82.1Nm@3400rpm| 55.92bhp@5300rpm|                K10C|      2|    No|                    No|     No|               Yes|               No|            Drum|         998|       3|           Manual|       5|        Power|           4.7|  3655| 1620|  1675|        1340|                 No|                  No|                   No|                     No|             No|                Yes|               Yes|              Yes|                              No|                           No|   Yes|           Yes|          2|       0|\n",
            "|  ID00013|0.045833998629361|      0.03|  0.480769230769231|          C3|              4076|   1|     B2|   M6|   Petrol| 113Nm@4400rpm| 88.50bhp@6000rpm|   K Series Dual jet|      2|    No|                   Yes|     No|               Yes|               No|            Drum|        1197|       4|           Manual|       5|     Electric|           4.8|  3845| 1735|  1530|        1335|                Yes|                  No|                   No|                     No|            Yes|                Yes|               Yes|              Yes|                             Yes|                          Yes|   Yes|           Yes|          2|       1|\n",
            "|  ID00014|0.520336974243094|       0.1|  0.307692307692308|         C10|             73430|   1|     B2|   M6|   Petrol| 113Nm@4400rpm| 88.50bhp@6000rpm|   K Series Dual jet|      2|    No|                   Yes|     No|               Yes|               No|            Drum|        1197|       4|           Manual|       5|     Electric|           4.8|  3845| 1735|  1530|        1335|                Yes|                  No|                   No|                     No|            Yes|                Yes|               Yes|              Yes|                             Yes|                          Yes|   Yes|           Yes|          2|       0|\n",
            "|  ID00015|0.213588587564883|      0.04|  0.403846153846154|         C11|              6108|   1|      A|   M1|      CNG|  60Nm@3500rpm| 40.36bhp@6000rpm|   F8D Petrol Engine|      2|    No|                    No|     No|               Yes|               No|            Drum|         796|       3|           Manual|       5|        Power|           4.6|  3445| 1515|  1475|        1185|                 No|                  No|                   No|                     No|             No|                 No|                No|              Yes|                              No|                           No|    No|           Yes|          0|       0|\n",
            "|  ID00016|0.897770850967484|      0.04|  0.576923076923077|          C5|             34738|   3|     C2|   M4|   Diesel| 250Nm@2750rpm|113.45bhp@4000rpm|       1.5 L U2 CRDi|      6|   Yes|                   Yes|    Yes|               Yes|              Yes|            Disc|        1493|       4|        Automatic|       6|        Power|           5.2|  4300| 1790|  1635|        1720|                Yes|                 Yes|                  Yes|                    Yes|            Yes|                Yes|               Yes|              Yes|                             Yes|                           No|   Yes|           Yes|          3|       0|\n",
            "|  ID00017|0.321144554416969|      0.03|  0.605769230769231|          C2|             27003|   1|      A|   M1|      CNG|  60Nm@3500rpm| 40.36bhp@6000rpm|   F8D Petrol Engine|      2|    No|                    No|     No|               Yes|               No|            Drum|         796|       3|           Manual|       5|        Power|           4.6|  3445| 1515|  1475|        1185|                 No|                  No|                   No|                     No|             No|                 No|                No|              Yes|                              No|                           No|    No|           Yes|          0|       0|\n",
            "|  ID00018| 0.24142124790882|      0.12|  0.471153846153846|          C9|             17804|   5|     C1|   M9|   Diesel| 200Nm@1750rpm| 97.89bhp@3600rpm|              i-DTEC|      2|    No|                   Yes|     No|               Yes|              Yes|            Drum|        1498|       4|           Manual|       5|     Electric|           4.9|  3995| 1695|  1501|        1051|                Yes|                  No|                   No|                    Yes|             No|                Yes|               Yes|              Yes|                             Yes|                          Yes|   Yes|           Yes|          4|       0|\n",
            "|  ID00019| 0.29596672924548|      0.12|                0.5|          C8|              8794|   3|     C2|   M4|   Diesel| 250Nm@2750rpm|113.45bhp@4000rpm|       1.5 L U2 CRDi|      6|   Yes|                   Yes|    Yes|               Yes|              Yes|            Disc|        1493|       4|        Automatic|       6|        Power|           5.2|  4300| 1790|  1635|        1720|                Yes|                 Yes|                  Yes|                    Yes|            Yes|                Yes|               Yes|              Yes|                             Yes|                           No|   Yes|           Yes|          3|       0|\n",
            "|  ID00020|0.758622595499839|      0.09|  0.394230769230769|          C5|             34738|   1|     B2|   M6|   Petrol| 113Nm@4400rpm| 88.50bhp@6000rpm|   K Series Dual jet|      2|    No|                   Yes|     No|               Yes|               No|            Drum|        1197|       4|           Manual|       5|     Electric|           4.8|  3845| 1735|  1530|        1335|                Yes|                  No|                   No|                     No|            Yes|                Yes|               Yes|              Yes|                             Yes|                          Yes|   Yes|           Yes|          2|       1|\n",
            "+---------+-----------------+----------+-------------------+------------+------------------+----+-------+-----+---------+--------------+-----------------+--------------------+-------+------+----------------------+-------+------------------+-----------------+----------------+------------+--------+-----------------+--------+-------------+--------------+------+-----+------+------------+-------------------+--------------------+---------------------+-----------------------+---------------+-------------------+------------------+-----------------+--------------------------------+-----------------------------+------+--------------+-----------+--------+\n",
            "only showing top 20 rows\n",
            "\n"
          ]
        }
      ]
    },
    {
      "cell_type": "markdown",
      "source": [
        "# Data Preprocessing"
      ],
      "metadata": {
        "id": "P9jF7dgaAi6B"
      }
    },
    {
      "cell_type": "code",
      "source": [
        "plot_cols = ['policy_tenure', 'age_of_car', 'age_of_policyholder',\n",
        "             'population_density', 'airbags', 'displacement',\n",
        "             'cylinder', 'gear_box', 'turning_radius',\n",
        "             'length', 'width', 'height', 'gross_weight']\n",
        "\n",
        "len(plot_cols)"
      ],
      "metadata": {
        "colab": {
          "base_uri": "https://localhost:8080/"
        },
        "id": "RG1OmsRNCg5l",
        "outputId": "5bf0a8a7-f260-4bbf-dc3b-4df04b6ac46d"
      },
      "execution_count": 149,
      "outputs": [
        {
          "output_type": "execute_result",
          "data": {
            "text/plain": [
              "13"
            ]
          },
          "metadata": {},
          "execution_count": 149
        }
      ]
    },
    {
      "cell_type": "code",
      "source": [
        "# Checking for outliers in the numeric columns\n",
        "\n",
        "pandas_df = df.toPandas()\n",
        "\n",
        "plot_cols = ['policy_tenure', 'age_of_car', 'age_of_policyholder',\n",
        "             'population_density', 'airbags', 'displacement',\n",
        "             'cylinder', 'gear_box', 'turning_radius',\n",
        "             'length', 'width', 'height', 'gross_weight', ]\n",
        "\n",
        "plt.figure(figsize=(20, 20))\n",
        "for i in range(0, len(plot_cols)):\n",
        "    plt.subplot(math.ceil(len(plot_cols)/2), 2, i + 1)\n",
        "    pandas_df.boxplot(column=plot_cols[i-1], grid=False)\n",
        "\n",
        "del pandas_df\n",
        "\n",
        "# Result tells us that the outliers is just to much, probably best if we didn't handle the outliers"
      ],
      "metadata": {
        "colab": {
          "base_uri": "https://localhost:8080/",
          "height": 1000
        },
        "id": "Y0diL1HDBjU0",
        "outputId": "2576aecd-1ff3-4404-d23f-d4cd0e3edba8"
      },
      "execution_count": 150,
      "outputs": [
        {
          "output_type": "display_data",
          "data": {
            "text/plain": [
              "<Figure size 2000x2000 with 13 Axes>"
            ],
            "image/png": "[encoded data removed]"
          },
          "metadata": {}
        }
      ]
    },
    {
      "cell_type": "code",
      "source": [
        "col_outliers = ['gross_weight', 'policy_tenure', 'age_of_car', 'displacement']"
      ],
      "metadata": {
        "id": "I_PYosanDTp7"
      },
      "execution_count": 151,
      "outputs": []
    },
    {
      "cell_type": "code",
      "source": [
        "def z_score_outliers(df, columns, threshold=3.0):\n",
        "    \"\"\"\n",
        "    Detects and removes outliers from a PySpark DataFrame using the z-score method.\n",
        "\n",
        "    :param df: PySpark DataFrame\n",
        "    :param columns: list of column names for which outliers should be removed\n",
        "    :param threshold: z-score threshold to determine outliers (default is 3.0)\n",
        "    :return: PySpark DataFrame with outliers removed\n",
        "    \"\"\"\n",
        "    for column in columns:\n",
        "        # Calculate mean and standard deviation\n",
        "        stats = df.select(mean(col(column)).alias('mean'), stddev(col(column)).alias('stddev')).collect()[0]\n",
        "\n",
        "        # Calculate z-scores and filter outliers\n",
        "        df = df.withColumn(f'{column}_z_score', (col(column) - stats['mean']) / stats['stddev']) \\\n",
        "               .filter(f'abs({column}_z_score) <= {threshold}') \\\n",
        "               .drop(f'{column}_z_score')\n",
        "\n",
        "    return df"
      ],
      "metadata": {
        "id": "zMwCucmKDyHc"
      },
      "execution_count": 152,
      "outputs": []
    },
    {
      "cell_type": "code",
      "source": [
        "df_z_score_outliers = z_score_outliers(df, col_outliers, threshold=3)"
      ],
      "metadata": {
        "id": "K6xFcEATD9bn"
      },
      "execution_count": 153,
      "outputs": []
    },
    {
      "cell_type": "code",
      "source": [
        "pandas_df_outliers = df_z_score_outliers.toPandas()\n",
        "\n",
        "plt.figure(figsize=(10, 10))\n",
        "for i in range(0, len(col_outliers)):\n",
        "    plt.subplot(math.ceil(len(col_outliers)/2), 2, i + 1)\n",
        "    pandas_df_outliers.boxplot(column=col_outliers[i-1], grid=False)\n",
        "\n",
        "del pandas_df_outliers"
      ],
      "metadata": {
        "colab": {
          "base_uri": "https://localhost:8080/",
          "height": 830
        },
        "id": "k8eeKNopEw8o",
        "outputId": "f89e0213-9120-4ae0-dcfc-9cb297641f79"
      },
      "execution_count": 154,
      "outputs": [
        {
          "output_type": "display_data",
          "data": {
            "text/plain": [
              "<Figure size 1000x1000 with 4 Axes>"
            ],
            "image/png": "[encoded data removed]"
          },
          "metadata": {}
        }
      ]
    },
    {
      "cell_type": "code",
      "source": [
        "df_z_score_outliers.show()\n",
        "df = df_z_score_outliers\n",
        "del df_z_score_outliers"
      ],
      "metadata": {
        "colab": {
          "base_uri": "https://localhost:8080/"
        },
        "id": "45deJRUJF11J",
        "outputId": "15ba348b-49b3-4a9e-ae20-5f443cec0362"
      },
      "execution_count": 155,
      "outputs": [
        {
          "output_type": "stream",
          "name": "stdout",
          "text": [
            "+---------+-----------------+----------+-------------------+------------+------------------+----+-------+-----+---------+--------------+-----------------+--------------------+-------+------+----------------------+-------+------------------+-----------------+----------------+------------+--------+-----------------+--------+-------------+--------------+------+-----+------+------------+-------------------+--------------------+---------------------+-----------------------+---------------+-------------------+------------------+-----------------+--------------------------------+-----------------------------+------+--------------+-----------+--------+\n",
            "|policy_id|    policy_tenure|age_of_car|age_of_policyholder|area_cluster|population_density|make|segment|model|fuel_type|    max_torque|        max_power|         engine_type|airbags|is_esc|is_adjustable_steering|is_tpms|is_parking_sensors|is_parking_camera|rear_brakes_type|displacement|cylinder|transmission_type|gear_box|steering_type|turning_radius|length|width|height|gross_weight|is_front_fog_lights|is_rear_window_wiper|is_rear_window_washer|is_rear_window_defogger|is_brake_assist|is_power_door_locks|is_central_locking|is_power_steering|is_driver_seat_height_adjustable|is_day_night_rear_view_mirror|is_ecw|is_speed_alert|ncap_rating|is_claim|\n",
            "+---------+-----------------+----------+-------------------+------------+------------------+----+-------+-----+---------+--------------+-----------------+--------------------+-------+------+----------------------+-------+------------------+-----------------+----------------+------------+--------+-----------------+--------+-------------+--------------+------+-----+------+------------+-------------------+--------------------+---------------------+-----------------------+---------------+-------------------+------------------+-----------------+--------------------------------+-----------------------------+------+--------------+-----------+--------+\n",
            "|  ID00001|0.515873589958172|      0.05|  0.644230769230769|          C1|              4990|   1|      A|   M1|      CNG|  60Nm@3500rpm| 40.36bhp@6000rpm|   F8D Petrol Engine|      2|    No|                    No|     No|               Yes|               No|            Drum|         796|       3|           Manual|       5|        Power|           4.6|  3445| 1515|  1475|        1185|                 No|                  No|                   No|                     No|             No|                 No|                No|              Yes|                              No|                           No|    No|           Yes|          0|       0|\n",
            "|  ID00002|0.672618513547733|      0.02|              0.375|          C2|             27003|   1|      A|   M1|      CNG|  60Nm@3500rpm| 40.36bhp@6000rpm|   F8D Petrol Engine|      2|    No|                    No|     No|               Yes|               No|            Drum|         796|       3|           Manual|       5|        Power|           4.6|  3445| 1515|  1475|        1185|                 No|                  No|                   No|                     No|             No|                 No|                No|              Yes|                              No|                           No|    No|           Yes|          0|       0|\n",
            "|  ID00003|0.841110255796233|      0.02|  0.384615384615385|          C3|              4076|   1|      A|   M1|      CNG|  60Nm@3500rpm| 40.36bhp@6000rpm|   F8D Petrol Engine|      2|    No|                    No|     No|               Yes|               No|            Drum|         796|       3|           Manual|       5|        Power|           4.6|  3445| 1515|  1475|        1185|                 No|                  No|                   No|                     No|             No|                 No|                No|              Yes|                              No|                           No|    No|           Yes|          0|       0|\n",
            "|  ID00004|0.900276558749967|      0.11|  0.432692307692308|          C4|             21622|   1|     C1|   M2|   Petrol| 113Nm@4400rpm| 88.50bhp@6000rpm|  1.2 L K12N Dualjet|      2|   Yes|                   Yes|     No|               Yes|              Yes|            Drum|        1197|       4|        Automatic|       5|     Electric|           4.8|  3995| 1735|  1515|        1335|                Yes|                  No|                   No|                    Yes|            Yes|                Yes|               Yes|              Yes|                             Yes|                          Yes|   Yes|           Yes|          2|       0|\n",
            "|  ID00005|0.596402813108729|      0.11|  0.634615384615385|          C5|             34738|   2|      A|   M3|   Petrol|  91Nm@4250rpm| 67.06bhp@5500rpm|             1.0 SCe|      2|    No|                    No|     No|                No|              Yes|            Drum|         999|       3|        Automatic|       5|     Electric|           5.0|  3731| 1579|  1490|        1155|                 No|                  No|                   No|                     No|             No|                Yes|               Yes|              Yes|                              No|                          Yes|   Yes|           Yes|          2|       0|\n",
            "|  ID00006| 1.01870853782142|      0.07|  0.519230769230769|          C6|             13051|   3|     C2|   M4|   Diesel| 250Nm@2750rpm|113.45bhp@4000rpm|       1.5 L U2 CRDi|      6|   Yes|                   Yes|    Yes|               Yes|              Yes|            Disc|        1493|       4|        Automatic|       6|        Power|           5.2|  4300| 1790|  1635|        1720|                Yes|                 Yes|                  Yes|                    Yes|            Yes|                Yes|               Yes|              Yes|                             Yes|                           No|   Yes|           Yes|          3|       0|\n",
            "|  ID00007|0.097992157807911|      0.16|  0.403846153846154|          C7|              6112|   4|     B2|   M5|   Diesel| 200Nm@3000rpm| 88.77bhp@4000rpm|1.5 Turbocharged ...|      2|    No|                   Yes|     No|               Yes|               No|            Drum|        1497|       4|           Manual|       5|     Electric|           5.0|  3990| 1755|  1523|        1490|                 No|                  No|                   No|                     No|             No|                Yes|               Yes|              Yes|                              No|                           No|   Yes|           Yes|          5|       0|\n",
            "|  ID00008|0.509084671398517|      0.14|  0.423076923076923|          C8|              8794|   1|     B2|   M6|   Petrol| 113Nm@4400rpm| 88.50bhp@6000rpm|   K Series Dual jet|      2|    No|                   Yes|     No|               Yes|               No|            Drum|        1197|       4|           Manual|       5|     Electric|           4.8|  3845| 1735|  1530|        1335|                Yes|                  No|                   No|                     No|            Yes|                Yes|               Yes|              Yes|                             Yes|                          Yes|   Yes|           Yes|          2|       0|\n",
            "|  ID00009|0.282393518287139|      0.07|  0.298076923076923|          C7|              6112|   3|     C2|   M4|   Diesel| 250Nm@2750rpm|113.45bhp@4000rpm|       1.5 L U2 CRDi|      6|   Yes|                   Yes|    Yes|               Yes|              Yes|            Disc|        1493|       4|        Automatic|       6|        Power|           5.2|  4300| 1790|  1635|        1720|                Yes|                 Yes|                  Yes|                    Yes|            Yes|                Yes|               Yes|              Yes|                             Yes|                           No|   Yes|           Yes|          3|       0|\n",
            "|  ID00010|0.566255432742967|      0.04|  0.442307692307692|          C9|             17804|   1|     B2|   M7|   Petrol| 113Nm@4400rpm| 88.50bhp@6000rpm|1.2 L K Series En...|      6|   Yes|                   Yes|     No|               Yes|              Yes|            Drum|        1197|       4|        Automatic|       5|     Electric|          4.85|  3990| 1745|  1500|        1410|                Yes|                 Yes|                  Yes|                    Yes|            Yes|                Yes|               Yes|              Yes|                             Yes|                          Yes|   Yes|           Yes|          0|       0|\n",
            "|  ID00011|0.951416171038409|      0.01|  0.596153846153846|          C5|             34738|   1|      A|   M1|      CNG|  60Nm@3500rpm| 40.36bhp@6000rpm|   F8D Petrol Engine|      2|    No|                    No|     No|               Yes|               No|            Drum|         796|       3|           Manual|       5|        Power|           4.6|  3445| 1515|  1475|        1185|                 No|                  No|                   No|                     No|             No|                 No|                No|              Yes|                              No|                           No|    No|           Yes|          0|       0|\n",
            "|  ID00012|0.083180015193718|      0.12|  0.298076923076923|          C3|              4076|   1|     B1|   M8|      CNG|82.1Nm@3400rpm| 55.92bhp@5300rpm|                K10C|      2|    No|                    No|     No|               Yes|               No|            Drum|         998|       3|           Manual|       5|        Power|           4.7|  3655| 1620|  1675|        1340|                 No|                  No|                   No|                     No|             No|                Yes|               Yes|              Yes|                              No|                           No|   Yes|           Yes|          2|       0|\n",
            "|  ID00013|0.045833998629361|      0.03|  0.480769230769231|          C3|              4076|   1|     B2|   M6|   Petrol| 113Nm@4400rpm| 88.50bhp@6000rpm|   K Series Dual jet|      2|    No|                   Yes|     No|               Yes|               No|            Drum|        1197|       4|           Manual|       5|     Electric|           4.8|  3845| 1735|  1530|        1335|                Yes|                  No|                   No|                     No|            Yes|                Yes|               Yes|              Yes|                             Yes|                          Yes|   Yes|           Yes|          2|       1|\n",
            "|  ID00014|0.520336974243094|       0.1|  0.307692307692308|         C10|             73430|   1|     B2|   M6|   Petrol| 113Nm@4400rpm| 88.50bhp@6000rpm|   K Series Dual jet|      2|    No|                   Yes|     No|               Yes|               No|            Drum|        1197|       4|           Manual|       5|     Electric|           4.8|  3845| 1735|  1530|        1335|                Yes|                  No|                   No|                     No|            Yes|                Yes|               Yes|              Yes|                             Yes|                          Yes|   Yes|           Yes|          2|       0|\n",
            "|  ID00015|0.213588587564883|      0.04|  0.403846153846154|         C11|              6108|   1|      A|   M1|      CNG|  60Nm@3500rpm| 40.36bhp@6000rpm|   F8D Petrol Engine|      2|    No|                    No|     No|               Yes|               No|            Drum|         796|       3|           Manual|       5|        Power|           4.6|  3445| 1515|  1475|        1185|                 No|                  No|                   No|                     No|             No|                 No|                No|              Yes|                              No|                           No|    No|           Yes|          0|       0|\n",
            "|  ID00016|0.897770850967484|      0.04|  0.576923076923077|          C5|             34738|   3|     C2|   M4|   Diesel| 250Nm@2750rpm|113.45bhp@4000rpm|       1.5 L U2 CRDi|      6|   Yes|                   Yes|    Yes|               Yes|              Yes|            Disc|        1493|       4|        Automatic|       6|        Power|           5.2|  4300| 1790|  1635|        1720|                Yes|                 Yes|                  Yes|                    Yes|            Yes|                Yes|               Yes|              Yes|                             Yes|                           No|   Yes|           Yes|          3|       0|\n",
            "|  ID00017|0.321144554416969|      0.03|  0.605769230769231|          C2|             27003|   1|      A|   M1|      CNG|  60Nm@3500rpm| 40.36bhp@6000rpm|   F8D Petrol Engine|      2|    No|                    No|     No|               Yes|               No|            Drum|         796|       3|           Manual|       5|        Power|           4.6|  3445| 1515|  1475|        1185|                 No|                  No|                   No|                     No|             No|                 No|                No|              Yes|                              No|                           No|    No|           Yes|          0|       0|\n",
            "|  ID00018| 0.24142124790882|      0.12|  0.471153846153846|          C9|             17804|   5|     C1|   M9|   Diesel| 200Nm@1750rpm| 97.89bhp@3600rpm|              i-DTEC|      2|    No|                   Yes|     No|               Yes|              Yes|            Drum|        1498|       4|           Manual|       5|     Electric|           4.9|  3995| 1695|  1501|        1051|                Yes|                  No|                   No|                    Yes|             No|                Yes|               Yes|              Yes|                             Yes|                          Yes|   Yes|           Yes|          4|       0|\n",
            "|  ID00019| 0.29596672924548|      0.12|                0.5|          C8|              8794|   3|     C2|   M4|   Diesel| 250Nm@2750rpm|113.45bhp@4000rpm|       1.5 L U2 CRDi|      6|   Yes|                   Yes|    Yes|               Yes|              Yes|            Disc|        1493|       4|        Automatic|       6|        Power|           5.2|  4300| 1790|  1635|        1720|                Yes|                 Yes|                  Yes|                    Yes|            Yes|                Yes|               Yes|              Yes|                             Yes|                           No|   Yes|           Yes|          3|       0|\n",
            "|  ID00020|0.758622595499839|      0.09|  0.394230769230769|          C5|             34738|   1|     B2|   M6|   Petrol| 113Nm@4400rpm| 88.50bhp@6000rpm|   K Series Dual jet|      2|    No|                   Yes|     No|               Yes|               No|            Drum|        1197|       4|           Manual|       5|     Electric|           4.8|  3845| 1735|  1530|        1335|                Yes|                  No|                   No|                     No|            Yes|                Yes|               Yes|              Yes|                             Yes|                          Yes|   Yes|           Yes|          2|       1|\n",
            "+---------+-----------------+----------+-------------------+------------+------------------+----+-------+-----+---------+--------------+-----------------+--------------------+-------+------+----------------------+-------+------------------+-----------------+----------------+------------+--------+-----------------+--------+-------------+--------------+------+-----+------+------------+-------------------+--------------------+---------------------+-----------------------+---------------+-------------------+------------------+-----------------+--------------------------------+-----------------------------+------+--------------+-----------+--------+\n",
            "only showing top 20 rows\n",
            "\n"
          ]
        }
      ]
    },
    {
      "cell_type": "code",
      "source": [
        "# Categorize Columns\n",
        "# Encoding that the order matters\n",
        "cat_columns = ['make', 'max_torque', 'max_power', 'is_esc', 'is_adjustable_steering',\n",
        "               'is_tpms', 'is_parking_sensors', 'is_parking_camera', 'length', 'width',\n",
        "               'height', 'gross_weight', 'is_front_fog_lights', 'is_rear_window_wiper',\n",
        "               'is_rear_window_washer', 'is_rear_window_defogger', 'is_brake_assist', 'is_power_door_locks',\n",
        "               'is_central_locking', 'is_power_steering', 'is_driver_seat_height_adjustable',\n",
        "               'is_day_night_rear_view_mirror', 'is_ecw', 'is_speed_alert']\n",
        "\n",
        "# Encoding that the order doesn't matter\n",
        "one_hot_columns = ['area_cluster', 'segment', 'model', 'fuel_type',\n",
        "                   'engine_type', 'rear_brakes_type', 'transmission_type',\n",
        "                   'steering_type']\n",
        "\n",
        "# Pure numerical columns\n",
        "numerical_columns = ['policy_tenure', 'age_of_car', 'age_of_policyholder',\n",
        "                     'population_density', 'airbags', 'displacement', 'cylinder',\n",
        "                     'gear_box', 'turning_radius', 'ncap_rating']\n",
        "\n",
        "print(len(cat_columns) + len(one_hot_columns) + len(numerical_columns))\n",
        "print(len(df.columns))"
      ],
      "metadata": {
        "colab": {
          "base_uri": "https://localhost:8080/"
        },
        "id": "HEPsCtaLIeqL",
        "outputId": "84987926-6766-4e56-815f-d4aa71c7cafb"
      },
      "execution_count": 205,
      "outputs": [
        {
          "output_type": "stream",
          "name": "stdout",
          "text": [
            "42\n",
            "44\n"
          ]
        }
      ]
    },
    {
      "cell_type": "code",
      "source": [
        "df_preprocess = df\n",
        "df_preprocess.columns"
      ],
      "metadata": {
        "colab": {
          "base_uri": "https://localhost:8080/"
        },
        "id": "Y8F4fOPLbR5Z",
        "outputId": "c1b8f246-be24-4f2d-8307-0e99225534a8"
      },
      "execution_count": 324,
      "outputs": [
        {
          "output_type": "execute_result",
          "data": {
            "text/plain": [
              "['policy_id',\n",
              " 'policy_tenure',\n",
              " 'age_of_car',\n",
              " 'age_of_policyholder',\n",
              " 'area_cluster',\n",
              " 'population_density',\n",
              " 'make',\n",
              " 'segment',\n",
              " 'model',\n",
              " 'fuel_type',\n",
              " 'max_torque',\n",
              " 'max_power',\n",
              " 'engine_type',\n",
              " 'airbags',\n",
              " 'is_esc',\n",
              " 'is_adjustable_steering',\n",
              " 'is_tpms',\n",
              " 'is_parking_sensors',\n",
              " 'is_parking_camera',\n",
              " 'rear_brakes_type',\n",
              " 'displacement',\n",
              " 'cylinder',\n",
              " 'transmission_type',\n",
              " 'gear_box',\n",
              " 'steering_type',\n",
              " 'turning_radius',\n",
              " 'length',\n",
              " 'width',\n",
              " 'height',\n",
              " 'gross_weight',\n",
              " 'is_front_fog_lights',\n",
              " 'is_rear_window_wiper',\n",
              " 'is_rear_window_washer',\n",
              " 'is_rear_window_defogger',\n",
              " 'is_brake_assist',\n",
              " 'is_power_door_locks',\n",
              " 'is_central_locking',\n",
              " 'is_power_steering',\n",
              " 'is_driver_seat_height_adjustable',\n",
              " 'is_day_night_rear_view_mirror',\n",
              " 'is_ecw',\n",
              " 'is_speed_alert',\n",
              " 'ncap_rating',\n",
              " 'is_claim']"
            ]
          },
          "metadata": {},
          "execution_count": 324
        }
      ]
    },
    {
      "cell_type": "code",
      "source": [
        "## Seems like there are weird problem in some of the columns\n",
        "## String Indexer and some other function can't use a certain columns\n",
        "## If I force to use these problematic columns I will get the error below\n",
        "\n",
        "for column in df_preprocess.columns:\n",
        "    if column in cat_columns or column in one_hot_columns:\n",
        "        indexer = StringIndexer(inputCol=column, outputCol=f'{column}-numeric')\n",
        "        df_preprocess = df_preprocess.drop(column)\n",
        "        indexer_fitted = indexer.fit(df_preprocess)\n",
        "        df_preprocess = indexer_fitted.transform(df_preprocess)\n",
        "\n",
        "    if column in one_hot_columns:\n",
        "        encoder = OneHotEncoder(inputCol=f'{column}-numeric', outputCol=f'{column}-onehot')\n",
        "        df_preprocess = df_preprocess.drop(f'{column}-numeric')\n",
        "        df_preprocess_onehot = encoder.fit(df_preprocess)\n",
        "        df_preprocess = df_preprocess_onehot.transform(df_preprocess)\n",
        "\n",
        "df_preprocess.show()"
      ],
      "metadata": {
        "colab": {
          "base_uri": "https://localhost:8080/",
          "height": 849
        },
        "id": "GBatJ_Vte_l0",
        "outputId": "59168586-a8f0-4c23-f63c-6b6da5623b50"
      },
      "execution_count": 325,
      "outputs": [
        {
          "output_type": "error",
          "ename": "Py4JJavaError",
          "evalue": "ignored",
          "traceback": [
            "\u001b[0;31m---------------------------------------------------------------------------\u001b[0m",
            "\u001b[0;31mPy4JJavaError\u001b[0m                             Traceback (most recent call last)",
            "\u001b[0;32m<ipython-input-325-b3a0b78c55b7>\u001b[0m in \u001b[0;36m<cell line: 5>\u001b[0;34m()\u001b[0m\n\u001b[1;32m      7\u001b[0m         \u001b[0mindexer\u001b[0m \u001b[0;34m=\u001b[0m \u001b[0mStringIndexer\u001b[0m\u001b[0;34m(\u001b[0m\u001b[0minputCol\u001b[0m\u001b[0;34m=\u001b[0m\u001b[0mcolumn\u001b[0m\u001b[0;34m,\u001b[0m \u001b[0moutputCol\u001b[0m\u001b[0;34m=\u001b[0m\u001b[0;34mf'{column}-numeric'\u001b[0m\u001b[0;34m)\u001b[0m\u001b[0;34m\u001b[0m\u001b[0;34m\u001b[0m\u001b[0m\n\u001b[1;32m      8\u001b[0m         \u001b[0mdf_preprocess\u001b[0m \u001b[0;34m=\u001b[0m \u001b[0mdf_preprocess\u001b[0m\u001b[0;34m.\u001b[0m\u001b[0mdrop\u001b[0m\u001b[0;34m(\u001b[0m\u001b[0mcolumn\u001b[0m\u001b[0;34m)\u001b[0m\u001b[0;34m\u001b[0m\u001b[0;34m\u001b[0m\u001b[0m\n\u001b[0;32m----> 9\u001b[0;31m         \u001b[0mindexer_fitted\u001b[0m \u001b[0;34m=\u001b[0m \u001b[0mindexer\u001b[0m\u001b[0;34m.\u001b[0m\u001b[0mfit\u001b[0m\u001b[0;34m(\u001b[0m\u001b[0mdf_preprocess\u001b[0m\u001b[0;34m)\u001b[0m\u001b[0;34m\u001b[0m\u001b[0;34m\u001b[0m\u001b[0m\n\u001b[0m\u001b[1;32m     10\u001b[0m         \u001b[0mdf_preprocess\u001b[0m \u001b[0;34m=\u001b[0m \u001b[0mindexer_fitted\u001b[0m\u001b[0;34m.\u001b[0m\u001b[0mtransform\u001b[0m\u001b[0;34m(\u001b[0m\u001b[0mdf_preprocess\u001b[0m\u001b[0;34m)\u001b[0m\u001b[0;34m\u001b[0m\u001b[0;34m\u001b[0m\u001b[0m\n\u001b[1;32m     11\u001b[0m \u001b[0;34m\u001b[0m\u001b[0m\n",
            "\u001b[0;32m/content/spark-3.2.4-bin-hadoop3.2/python/pyspark/ml/base.py\u001b[0m in \u001b[0;36mfit\u001b[0;34m(self, dataset, params)\u001b[0m\n\u001b[1;32m    159\u001b[0m                 \u001b[0;32mreturn\u001b[0m \u001b[0mself\u001b[0m\u001b[0;34m.\u001b[0m\u001b[0mcopy\u001b[0m\u001b[0;34m(\u001b[0m\u001b[0mparams\u001b[0m\u001b[0;34m)\u001b[0m\u001b[0;34m.\u001b[0m\u001b[0m_fit\u001b[0m\u001b[0;34m(\u001b[0m\u001b[0mdataset\u001b[0m\u001b[0;34m)\u001b[0m\u001b[0;34m\u001b[0m\u001b[0;34m\u001b[0m\u001b[0m\n\u001b[1;32m    160\u001b[0m             \u001b[0;32melse\u001b[0m\u001b[0;34m:\u001b[0m\u001b[0;34m\u001b[0m\u001b[0;34m\u001b[0m\u001b[0m\n\u001b[0;32m--> 161\u001b[0;31m                 \u001b[0;32mreturn\u001b[0m \u001b[0mself\u001b[0m\u001b[0;34m.\u001b[0m\u001b[0m_fit\u001b[0m\u001b[0;34m(\u001b[0m\u001b[0mdataset\u001b[0m\u001b[0;34m)\u001b[0m\u001b[0;34m\u001b[0m\u001b[0;34m\u001b[0m\u001b[0m\n\u001b[0m\u001b[1;32m    162\u001b[0m         \u001b[0;32melse\u001b[0m\u001b[0;34m:\u001b[0m\u001b[0;34m\u001b[0m\u001b[0;34m\u001b[0m\u001b[0m\n\u001b[1;32m    163\u001b[0m             raise TypeError(\"Params must be either a param map or a list/tuple of param maps, \"\n",
            "\u001b[0;32m/content/spark-3.2.4-bin-hadoop3.2/python/pyspark/ml/wrapper.py\u001b[0m in \u001b[0;36m_fit\u001b[0;34m(self, dataset)\u001b[0m\n\u001b[1;32m    337\u001b[0m \u001b[0;34m\u001b[0m\u001b[0m\n\u001b[1;32m    338\u001b[0m     \u001b[0;32mdef\u001b[0m \u001b[0m_fit\u001b[0m\u001b[0;34m(\u001b[0m\u001b[0mself\u001b[0m\u001b[0;34m,\u001b[0m \u001b[0mdataset\u001b[0m\u001b[0;34m)\u001b[0m\u001b[0;34m:\u001b[0m\u001b[0;34m\u001b[0m\u001b[0;34m\u001b[0m\u001b[0m\n\u001b[0;32m--> 339\u001b[0;31m         \u001b[0mjava_model\u001b[0m \u001b[0;34m=\u001b[0m \u001b[0mself\u001b[0m\u001b[0;34m.\u001b[0m\u001b[0m_fit_java\u001b[0m\u001b[0;34m(\u001b[0m\u001b[0mdataset\u001b[0m\u001b[0;34m)\u001b[0m\u001b[0;34m\u001b[0m\u001b[0;34m\u001b[0m\u001b[0m\n\u001b[0m\u001b[1;32m    340\u001b[0m         \u001b[0mmodel\u001b[0m \u001b[0;34m=\u001b[0m \u001b[0mself\u001b[0m\u001b[0;34m.\u001b[0m\u001b[0m_create_model\u001b[0m\u001b[0;34m(\u001b[0m\u001b[0mjava_model\u001b[0m\u001b[0;34m)\u001b[0m\u001b[0;34m\u001b[0m\u001b[0;34m\u001b[0m\u001b[0m\n\u001b[1;32m    341\u001b[0m         \u001b[0;32mreturn\u001b[0m \u001b[0mself\u001b[0m\u001b[0;34m.\u001b[0m\u001b[0m_copyValues\u001b[0m\u001b[0;34m(\u001b[0m\u001b[0mmodel\u001b[0m\u001b[0;34m)\u001b[0m\u001b[0;34m\u001b[0m\u001b[0;34m\u001b[0m\u001b[0m\n",
            "\u001b[0;32m/content/spark-3.2.4-bin-hadoop3.2/python/pyspark/ml/wrapper.py\u001b[0m in \u001b[0;36m_fit_java\u001b[0;34m(self, dataset)\u001b[0m\n\u001b[1;32m    334\u001b[0m         \"\"\"\n\u001b[1;32m    335\u001b[0m         \u001b[0mself\u001b[0m\u001b[0;34m.\u001b[0m\u001b[0m_transfer_params_to_java\u001b[0m\u001b[0;34m(\u001b[0m\u001b[0;34m)\u001b[0m\u001b[0;34m\u001b[0m\u001b[0;34m\u001b[0m\u001b[0m\n\u001b[0;32m--> 336\u001b[0;31m         \u001b[0;32mreturn\u001b[0m \u001b[0mself\u001b[0m\u001b[0;34m.\u001b[0m\u001b[0m_java_obj\u001b[0m\u001b[0;34m.\u001b[0m\u001b[0mfit\u001b[0m\u001b[0;34m(\u001b[0m\u001b[0mdataset\u001b[0m\u001b[0;34m.\u001b[0m\u001b[0m_jdf\u001b[0m\u001b[0;34m)\u001b[0m\u001b[0;34m\u001b[0m\u001b[0;34m\u001b[0m\u001b[0m\n\u001b[0m\u001b[1;32m    337\u001b[0m \u001b[0;34m\u001b[0m\u001b[0m\n\u001b[1;32m    338\u001b[0m     \u001b[0;32mdef\u001b[0m \u001b[0m_fit\u001b[0m\u001b[0;34m(\u001b[0m\u001b[0mself\u001b[0m\u001b[0;34m,\u001b[0m \u001b[0mdataset\u001b[0m\u001b[0;34m)\u001b[0m\u001b[0;34m:\u001b[0m\u001b[0;34m\u001b[0m\u001b[0;34m\u001b[0m\u001b[0m\n",
            "\u001b[0;32m/content/spark-3.2.4-bin-hadoop3.2/python/lib/py4j-0.10.9.5-src.zip/py4j/java_gateway.py\u001b[0m in \u001b[0;36m__call__\u001b[0;34m(self, *args)\u001b[0m\n\u001b[1;32m   1319\u001b[0m \u001b[0;34m\u001b[0m\u001b[0m\n\u001b[1;32m   1320\u001b[0m         \u001b[0manswer\u001b[0m \u001b[0;34m=\u001b[0m \u001b[0mself\u001b[0m\u001b[0;34m.\u001b[0m\u001b[0mgateway_client\u001b[0m\u001b[0;34m.\u001b[0m\u001b[0msend_command\u001b[0m\u001b[0;34m(\u001b[0m\u001b[0mcommand\u001b[0m\u001b[0;34m)\u001b[0m\u001b[0;34m\u001b[0m\u001b[0;34m\u001b[0m\u001b[0m\n\u001b[0;32m-> 1321\u001b[0;31m         return_value = get_return_value(\n\u001b[0m\u001b[1;32m   1322\u001b[0m             answer, self.gateway_client, self.target_id, self.name)\n\u001b[1;32m   1323\u001b[0m \u001b[0;34m\u001b[0m\u001b[0m\n",
            "\u001b[0;32m/content/spark-3.2.4-bin-hadoop3.2/python/pyspark/sql/utils.py\u001b[0m in \u001b[0;36mdeco\u001b[0;34m(*a, **kw)\u001b[0m\n\u001b[1;32m    109\u001b[0m     \u001b[0;32mdef\u001b[0m \u001b[0mdeco\u001b[0m\u001b[0;34m(\u001b[0m\u001b[0;34m*\u001b[0m\u001b[0ma\u001b[0m\u001b[0;34m,\u001b[0m \u001b[0;34m**\u001b[0m\u001b[0mkw\u001b[0m\u001b[0;34m)\u001b[0m\u001b[0;34m:\u001b[0m\u001b[0;34m\u001b[0m\u001b[0;34m\u001b[0m\u001b[0m\n\u001b[1;32m    110\u001b[0m         \u001b[0;32mtry\u001b[0m\u001b[0;34m:\u001b[0m\u001b[0;34m\u001b[0m\u001b[0;34m\u001b[0m\u001b[0m\n\u001b[0;32m--> 111\u001b[0;31m             \u001b[0;32mreturn\u001b[0m \u001b[0mf\u001b[0m\u001b[0;34m(\u001b[0m\u001b[0;34m*\u001b[0m\u001b[0ma\u001b[0m\u001b[0;34m,\u001b[0m \u001b[0;34m**\u001b[0m\u001b[0mkw\u001b[0m\u001b[0;34m)\u001b[0m\u001b[0;34m\u001b[0m\u001b[0;34m\u001b[0m\u001b[0m\n\u001b[0m\u001b[1;32m    112\u001b[0m         \u001b[0;32mexcept\u001b[0m \u001b[0mpy4j\u001b[0m\u001b[0;34m.\u001b[0m\u001b[0mprotocol\u001b[0m\u001b[0;34m.\u001b[0m\u001b[0mPy4JJavaError\u001b[0m \u001b[0;32mas\u001b[0m \u001b[0me\u001b[0m\u001b[0;34m:\u001b[0m\u001b[0;34m\u001b[0m\u001b[0;34m\u001b[0m\u001b[0m\n\u001b[1;32m    113\u001b[0m             \u001b[0mconverted\u001b[0m \u001b[0;34m=\u001b[0m \u001b[0mconvert_exception\u001b[0m\u001b[0;34m(\u001b[0m\u001b[0me\u001b[0m\u001b[0;34m.\u001b[0m\u001b[0mjava_exception\u001b[0m\u001b[0;34m)\u001b[0m\u001b[0;34m\u001b[0m\u001b[0;34m\u001b[0m\u001b[0m\n",
            "\u001b[0;32m/content/spark-3.2.4-bin-hadoop3.2/python/lib/py4j-0.10.9.5-src.zip/py4j/protocol.py\u001b[0m in \u001b[0;36mget_return_value\u001b[0;34m(answer, gateway_client, target_id, name)\u001b[0m\n\u001b[1;32m    324\u001b[0m             \u001b[0mvalue\u001b[0m \u001b[0;34m=\u001b[0m \u001b[0mOUTPUT_CONVERTER\u001b[0m\u001b[0;34m[\u001b[0m\u001b[0mtype\u001b[0m\u001b[0;34m]\u001b[0m\u001b[0;34m(\u001b[0m\u001b[0manswer\u001b[0m\u001b[0;34m[\u001b[0m\u001b[0;36m2\u001b[0m\u001b[0;34m:\u001b[0m\u001b[0;34m]\u001b[0m\u001b[0;34m,\u001b[0m \u001b[0mgateway_client\u001b[0m\u001b[0;34m)\u001b[0m\u001b[0;34m\u001b[0m\u001b[0;34m\u001b[0m\u001b[0m\n\u001b[1;32m    325\u001b[0m             \u001b[0;32mif\u001b[0m \u001b[0manswer\u001b[0m\u001b[0;34m[\u001b[0m\u001b[0;36m1\u001b[0m\u001b[0;34m]\u001b[0m \u001b[0;34m==\u001b[0m \u001b[0mREFERENCE_TYPE\u001b[0m\u001b[0;34m:\u001b[0m\u001b[0;34m\u001b[0m\u001b[0;34m\u001b[0m\u001b[0m\n\u001b[0;32m--> 326\u001b[0;31m                 raise Py4JJavaError(\n\u001b[0m\u001b[1;32m    327\u001b[0m                     \u001b[0;34m\"An error occurred while calling {0}{1}{2}.\\n\"\u001b[0m\u001b[0;34m.\u001b[0m\u001b[0;34m\u001b[0m\u001b[0;34m\u001b[0m\u001b[0m\n\u001b[1;32m    328\u001b[0m                     format(target_id, \".\", name), value)\n",
            "\u001b[0;31mPy4JJavaError\u001b[0m: An error occurred while calling o10888.fit.\n: org.apache.spark.SparkException: Input column area_cluster does not exist.\n\tat org.apache.spark.ml.feature.StringIndexerBase.$anonfun$validateAndTransformSchema$2(StringIndexer.scala:128)\n\tat scala.collection.TraversableLike.$anonfun$flatMap$1(TraversableLike.scala:293)\n\tat scala.collection.IndexedSeqOptimized.foreach(IndexedSeqOptimized.scala:36)\n\tat scala.collection.IndexedSeqOptimized.foreach$(IndexedSeqOptimized.scala:33)\n\tat scala.collection.mutable.ArrayOps$ofRef.foreach(ArrayOps.scala:198)\n\tat scala.collection.TraversableLike.flatMap(TraversableLike.scala:293)\n\tat scala.collection.TraversableLike.flatMap$(TraversableLike.scala:290)\n\tat scala.collection.mutable.ArrayOps$ofRef.flatMap(ArrayOps.scala:198)\n\tat org.apache.spark.ml.feature.StringIndexerBase.validateAndTransformSchema(StringIndexer.scala:123)\n\tat org.apache.spark.ml.feature.StringIndexerBase.validateAndTransformSchema$(StringIndexer.scala:115)\n\tat org.apache.spark.ml.feature.StringIndexer.validateAndTransformSchema(StringIndexer.scala:145)\n\tat org.apache.spark.ml.feature.StringIndexer.transformSchema(StringIndexer.scala:252)\n\tat org.apache.spark.ml.PipelineStage.transformSchema(Pipeline.scala:71)\n\tat org.apache.spark.ml.feature.StringIndexer.fit(StringIndexer.scala:237)\n\tat org.apache.spark.ml.feature.StringIndexer.fit(StringIndexer.scala:145)\n\tat sun.reflect.GeneratedMethodAccessor151.invoke(Unknown Source)\n\tat sun.reflect.DelegatingMethodAccessorImpl.invoke(DelegatingMethodAccessorImpl.java:43)\n\tat java.lang.reflect.Method.invoke(Method.java:498)\n\tat py4j.reflection.MethodInvoker.invoke(MethodInvoker.java:244)\n\tat py4j.reflection.ReflectionEngine.invoke(ReflectionEngine.java:357)\n\tat py4j.Gateway.invoke(Gateway.java:282)\n\tat py4j.commands.AbstractCommand.invokeMethod(AbstractCommand.java:132)\n\tat py4j.commands.CallCommand.execute(CallCommand.java:79)\n\tat py4j.ClientServerConnection.waitForCommands(ClientServerConnection.java:182)\n\tat py4j.ClientServerConnection.run(ClientServerConnection.java:106)\n\tat java.lang.Thread.run(Thread.java:750)\n"
          ]
        }
      ]
    },
    {
      "cell_type": "code",
      "source": [
        "# I then decide, to avoid future problem, decided to drop all of these problematic columns\n",
        "\n",
        "problematic_columns = []\n",
        "for column in df_preprocess.columns:\n",
        "    try:\n",
        "        if column in cat_columns or column in one_hot_columns:\n",
        "            indexer = StringIndexer(inputCol=column, outputCol=f'{column}-numeric')\n",
        "            df_preprocess = df_preprocess.drop(column)\n",
        "            indexer_fitted = indexer.fit(df_preprocess)\n",
        "            df_preprocess = indexer_fitted.transform(df_preprocess)\n",
        "\n",
        "        if column in one_hot_columns:\n",
        "            encoder = OneHotEncoder(inputCol=f'{column}-numeric', outputCol=f'{column}-onehot')\n",
        "            df_preprocess = df_preprocess.drop(f'{column}-numeric')\n",
        "            df_preprocess_onehot = encoder.fit(df_preprocess)\n",
        "            df_preprocess = df_preprocess_onehot.transform(df_preprocess)\n",
        "\n",
        "    except:\n",
        "        problematic_columns.append(column)\n",
        "\n",
        "print(f'df_preprocess columns length : {len(df_preprocess.columns)}')\n",
        "df_preprocess.show()\n",
        "print()\n",
        "print(f'problematic columns length : {len(problematic_columns)}')\n",
        "problematic_columns"
      ],
      "metadata": {
        "colab": {
          "base_uri": "https://localhost:8080/"
        },
        "id": "axoieMDTasCZ",
        "outputId": "56c46a3d-cb46-4a4e-89a1-640c9106ebfa"
      },
      "execution_count": 326,
      "outputs": [
        {
          "output_type": "stream",
          "name": "stdout",
          "text": [
            "df_preprocess columns length : 12\n",
            "+---------+-----------------+----------+-------------------+------------------+-------+------------+--------+--------+--------------+-----------+--------+\n",
            "|policy_id|    policy_tenure|age_of_car|age_of_policyholder|population_density|airbags|displacement|cylinder|gear_box|turning_radius|ncap_rating|is_claim|\n",
            "+---------+-----------------+----------+-------------------+------------------+-------+------------+--------+--------+--------------+-----------+--------+\n",
            "|  ID00001|0.515873589958172|      0.05|  0.644230769230769|              4990|      2|         796|       3|       5|           4.6|          0|       0|\n",
            "|  ID00002|0.672618513547733|      0.02|              0.375|             27003|      2|         796|       3|       5|           4.6|          0|       0|\n",
            "|  ID00003|0.841110255796233|      0.02|  0.384615384615385|              4076|      2|         796|       3|       5|           4.6|          0|       0|\n",
            "|  ID00004|0.900276558749967|      0.11|  0.432692307692308|             21622|      2|        1197|       4|       5|           4.8|          2|       0|\n",
            "|  ID00005|0.596402813108729|      0.11|  0.634615384615385|             34738|      2|         999|       3|       5|           5.0|          2|       0|\n",
            "|  ID00006| 1.01870853782142|      0.07|  0.519230769230769|             13051|      6|        1493|       4|       6|           5.2|          3|       0|\n",
            "|  ID00007|0.097992157807911|      0.16|  0.403846153846154|              6112|      2|        1497|       4|       5|           5.0|          5|       0|\n",
            "|  ID00008|0.509084671398517|      0.14|  0.423076923076923|              8794|      2|        1197|       4|       5|           4.8|          2|       0|\n",
            "|  ID00009|0.282393518287139|      0.07|  0.298076923076923|              6112|      6|        1493|       4|       6|           5.2|          3|       0|\n",
            "|  ID00010|0.566255432742967|      0.04|  0.442307692307692|             17804|      6|        1197|       4|       5|          4.85|          0|       0|\n",
            "|  ID00011|0.951416171038409|      0.01|  0.596153846153846|             34738|      2|         796|       3|       5|           4.6|          0|       0|\n",
            "|  ID00012|0.083180015193718|      0.12|  0.298076923076923|              4076|      2|         998|       3|       5|           4.7|          2|       0|\n",
            "|  ID00013|0.045833998629361|      0.03|  0.480769230769231|              4076|      2|        1197|       4|       5|           4.8|          2|       1|\n",
            "|  ID00014|0.520336974243094|       0.1|  0.307692307692308|             73430|      2|        1197|       4|       5|           4.8|          2|       0|\n",
            "|  ID00015|0.213588587564883|      0.04|  0.403846153846154|              6108|      2|         796|       3|       5|           4.6|          0|       0|\n",
            "|  ID00016|0.897770850967484|      0.04|  0.576923076923077|             34738|      6|        1493|       4|       6|           5.2|          3|       0|\n",
            "|  ID00017|0.321144554416969|      0.03|  0.605769230769231|             27003|      2|         796|       3|       5|           4.6|          0|       0|\n",
            "|  ID00018| 0.24142124790882|      0.12|  0.471153846153846|             17804|      2|        1498|       4|       5|           4.9|          4|       0|\n",
            "|  ID00019| 0.29596672924548|      0.12|                0.5|              8794|      6|        1493|       4|       6|           5.2|          3|       0|\n",
            "|  ID00020|0.758622595499839|      0.09|  0.394230769230769|             34738|      2|        1197|       4|       5|           4.8|          2|       1|\n",
            "+---------+-----------------+----------+-------------------+------------------+-------+------------+--------+--------+--------------+-----------+--------+\n",
            "only showing top 20 rows\n",
            "\n",
            "\n",
            "problematic columns length : 31\n"
          ]
        },
        {
          "output_type": "execute_result",
          "data": {
            "text/plain": [
              "['make',\n",
              " 'segment',\n",
              " 'model',\n",
              " 'fuel_type',\n",
              " 'max_torque',\n",
              " 'max_power',\n",
              " 'engine_type',\n",
              " 'is_esc',\n",
              " 'is_adjustable_steering',\n",
              " 'is_tpms',\n",
              " 'is_parking_sensors',\n",
              " 'is_parking_camera',\n",
              " 'rear_brakes_type',\n",
              " 'transmission_type',\n",
              " 'steering_type',\n",
              " 'length',\n",
              " 'width',\n",
              " 'height',\n",
              " 'gross_weight',\n",
              " 'is_front_fog_lights',\n",
              " 'is_rear_window_wiper',\n",
              " 'is_rear_window_washer',\n",
              " 'is_rear_window_defogger',\n",
              " 'is_brake_assist',\n",
              " 'is_power_door_locks',\n",
              " 'is_central_locking',\n",
              " 'is_power_steering',\n",
              " 'is_driver_seat_height_adjustable',\n",
              " 'is_day_night_rear_view_mirror',\n",
              " 'is_ecw',\n",
              " 'is_speed_alert']"
            ]
          },
          "metadata": {},
          "execution_count": 326
        }
      ]
    },
    {
      "cell_type": "code",
      "source": [
        "## Adding missed column\n",
        "problematic_columns.append('area_cluster')\n",
        "problematic_columns"
      ],
      "metadata": {
        "colab": {
          "base_uri": "https://localhost:8080/"
        },
        "id": "i48wE8W0h4ot",
        "outputId": "ea769116-8046-4d5e-98a5-5182fb8f42ad"
      },
      "execution_count": 327,
      "outputs": [
        {
          "output_type": "execute_result",
          "data": {
            "text/plain": [
              "['make',\n",
              " 'segment',\n",
              " 'model',\n",
              " 'fuel_type',\n",
              " 'max_torque',\n",
              " 'max_power',\n",
              " 'engine_type',\n",
              " 'is_esc',\n",
              " 'is_adjustable_steering',\n",
              " 'is_tpms',\n",
              " 'is_parking_sensors',\n",
              " 'is_parking_camera',\n",
              " 'rear_brakes_type',\n",
              " 'transmission_type',\n",
              " 'steering_type',\n",
              " 'length',\n",
              " 'width',\n",
              " 'height',\n",
              " 'gross_weight',\n",
              " 'is_front_fog_lights',\n",
              " 'is_rear_window_wiper',\n",
              " 'is_rear_window_washer',\n",
              " 'is_rear_window_defogger',\n",
              " 'is_brake_assist',\n",
              " 'is_power_door_locks',\n",
              " 'is_central_locking',\n",
              " 'is_power_steering',\n",
              " 'is_driver_seat_height_adjustable',\n",
              " 'is_day_night_rear_view_mirror',\n",
              " 'is_ecw',\n",
              " 'is_speed_alert',\n",
              " 'area_cluster']"
            ]
          },
          "metadata": {},
          "execution_count": 327
        }
      ]
    },
    {
      "cell_type": "code",
      "source": [
        "# Acquiring all features that is not problematic\n",
        "\n",
        "unproblematic_columns = []\n",
        "for column in cat_columns:\n",
        "    if column not in problematic_columns:\n",
        "        unproblematic_columns.append(column)\n",
        "\n",
        "for column in one_hot_columns:\n",
        "    if column not in problematic_columns:\n",
        "        unproblematic_columns.append(column)\n",
        "\n",
        "for column in numerical_columns:\n",
        "    if column not in problematic_columns:\n",
        "        unproblematic_columns.append(column)\n",
        "\n",
        "print(len(unproblematic_columns))\n",
        "unproblematic_columns"
      ],
      "metadata": {
        "colab": {
          "base_uri": "https://localhost:8080/"
        },
        "id": "JjJP4koJgdRT",
        "outputId": "a9a6b36c-3436-4433-bc3c-c27d7f0474e5"
      },
      "execution_count": 328,
      "outputs": [
        {
          "output_type": "stream",
          "name": "stdout",
          "text": [
            "10\n"
          ]
        },
        {
          "output_type": "execute_result",
          "data": {
            "text/plain": [
              "['policy_tenure',\n",
              " 'age_of_car',\n",
              " 'age_of_policyholder',\n",
              " 'population_density',\n",
              " 'airbags',\n",
              " 'displacement',\n",
              " 'cylinder',\n",
              " 'gear_box',\n",
              " 'turning_radius',\n",
              " 'ncap_rating']"
            ]
          },
          "metadata": {},
          "execution_count": 328
        }
      ]
    },
    {
      "cell_type": "markdown",
      "source": [
        "## Feature Selections"
      ],
      "metadata": {
        "id": "-ZKH5_JhknNR"
      }
    },
    {
      "cell_type": "code",
      "source": [
        "# Select the real numeric values (not categorical) for correlation heatmap\n",
        "corr_cols = unproblematic_columns\n",
        "corr_cols.append('is_claim')\n",
        "assembler = VectorAssembler(inputCols=corr_cols, outputCol='corr_features')\n",
        "df_vector = assembler.transform(df_preprocess).select('corr_features')\n",
        "\n",
        "# Creating the heatmap\n",
        "matrix = Correlation.corr(df_vector, 'corr_features').collect()[0][0]\n",
        "corr_matrix = matrix.toArray().tolist()\n",
        "corr_matrix_df = pd.DataFrame(data=corr_matrix, columns=corr_cols, index=corr_cols)\n",
        "corr_matrix_df.style.background_gradient().set_precision(2)"
      ],
      "metadata": {
        "colab": {
          "base_uri": "https://localhost:8080/",
          "height": 464
        },
        "id": "zIkUNQMMgVVu",
        "outputId": "bef27058-328d-4cb0-99dc-0c9232313fe3"
      },
      "execution_count": 329,
      "outputs": [
        {
          "output_type": "stream",
          "name": "stderr",
          "text": [
            "/content/spark-3.2.4-bin-hadoop3.2/python/pyspark/sql/context.py:125: FutureWarning: Deprecated in 3.0.0. Use SparkSession.builder.getOrCreate() instead.\n",
            "  warnings.warn(\n",
            "<ipython-input-329-5a547d10901b>:11: FutureWarning: this method is deprecated in favour of `Styler.format(precision=..)`\n",
            "  corr_matrix_df.style.background_gradient().set_precision(2)\n"
          ]
        },
        {
          "output_type": "execute_result",
          "data": {
            "text/plain": [
              "<pandas.io.formats.style.Styler at 0x7ff113e9ef50>"
            ],
            "text/html": [
              "<style type=\"text/css\">\n",
              "#T_75264_row0_col0, #T_75264_row1_col1, #T_75264_row2_col2, #T_75264_row3_col3, #T_75264_row4_col4, #T_75264_row5_col5, #T_75264_row6_col6, #T_75264_row7_col7, #T_75264_row8_col8, #T_75264_row9_col9, #T_75264_row10_col10 {\n",
              "  background-color: #023858;\n",
              "  color: #f1f1f1;\n",
              "}\n",
              "#T_75264_row0_col1 {\n",
              "  background-color: #d8d7e9;\n",
              "  color: #000000;\n",
              "}\n",
              "#T_75264_row0_col2, #T_75264_row7_col0 {\n",
              "  background-color: #e0deed;\n",
              "  color: #000000;\n",
              "}\n",
              "#T_75264_row0_col3, #T_75264_row1_col2, #T_75264_row1_col10, #T_75264_row3_col0, #T_75264_row3_col1, #T_75264_row3_col4, #T_75264_row3_col5, #T_75264_row3_col6, #T_75264_row3_col7, #T_75264_row3_col8, #T_75264_row3_col9 {\n",
              "  background-color: #fff7fb;\n",
              "  color: #000000;\n",
              "}\n",
              "#T_75264_row0_col4 {\n",
              "  background-color: #e6e2ef;\n",
              "  color: #000000;\n",
              "}\n",
              "#T_75264_row0_col5, #T_75264_row4_col1, #T_75264_row6_col0 {\n",
              "  background-color: #cccfe5;\n",
              "  color: #000000;\n",
              "}\n",
              "#T_75264_row0_col6, #T_75264_row1_col4 {\n",
              "  background-color: #cdd0e5;\n",
              "  color: #000000;\n",
              "}\n",
              "#T_75264_row0_col7 {\n",
              "  background-color: #e8e4f0;\n",
              "  color: #000000;\n",
              "}\n",
              "#T_75264_row0_col8, #T_75264_row0_col9 {\n",
              "  background-color: #d5d5e8;\n",
              "  color: #000000;\n",
              "}\n",
              "#T_75264_row0_col10, #T_75264_row2_col3 {\n",
              "  background-color: #f0eaf4;\n",
              "  color: #000000;\n",
              "}\n",
              "#T_75264_row1_col0 {\n",
              "  background-color: #d2d3e7;\n",
              "  color: #000000;\n",
              "}\n",
              "#T_75264_row1_col3, #T_75264_row4_col2, #T_75264_row5_col10 {\n",
              "  background-color: #faf3f9;\n",
              "  color: #000000;\n",
              "}\n",
              "#T_75264_row1_col5 {\n",
              "  background-color: #88b1d4;\n",
              "  color: #000000;\n",
              "}\n",
              "#T_75264_row1_col6, #T_75264_row6_col7 {\n",
              "  background-color: #8bb2d4;\n",
              "  color: #000000;\n",
              "}\n",
              "#T_75264_row1_col7, #T_75264_row9_col0 {\n",
              "  background-color: #d1d2e6;\n",
              "  color: #000000;\n",
              "}\n",
              "#T_75264_row1_col8 {\n",
              "  background-color: #a1bbda;\n",
              "  color: #000000;\n",
              "}\n",
              "#T_75264_row1_col9 {\n",
              "  background-color: #9cb9d9;\n",
              "  color: #000000;\n",
              "}\n",
              "#T_75264_row2_col0 {\n",
              "  background-color: #d7d6e9;\n",
              "  color: #000000;\n",
              "}\n",
              "#T_75264_row2_col1, #T_75264_row5_col2, #T_75264_row9_col2 {\n",
              "  background-color: #fdf5fa;\n",
              "  color: #000000;\n",
              "}\n",
              "#T_75264_row2_col4, #T_75264_row2_col7, #T_75264_row2_col10, #T_75264_row6_col2 {\n",
              "  background-color: #f8f1f8;\n",
              "  color: #000000;\n",
              "}\n",
              "#T_75264_row2_col5, #T_75264_row10_col4 {\n",
              "  background-color: #f6eff7;\n",
              "  color: #000000;\n",
              "}\n",
              "#T_75264_row2_col6 {\n",
              "  background-color: #f2ecf5;\n",
              "  color: #000000;\n",
              "}\n",
              "#T_75264_row2_col8, #T_75264_row3_col2, #T_75264_row10_col7 {\n",
              "  background-color: #f7f0f7;\n",
              "  color: #000000;\n",
              "}\n",
              "#T_75264_row2_col9, #T_75264_row4_col3, #T_75264_row6_col10, #T_75264_row10_col1 {\n",
              "  background-color: #faf2f8;\n",
              "  color: #000000;\n",
              "}\n",
              "#T_75264_row3_col10, #T_75264_row5_col3 {\n",
              "  background-color: #fef6fa;\n",
              "  color: #000000;\n",
              "}\n",
              "#T_75264_row4_col0 {\n",
              "  background-color: #dfddec;\n",
              "  color: #000000;\n",
              "}\n",
              "#T_75264_row4_col5 {\n",
              "  background-color: #1c7fb8;\n",
              "  color: #f1f1f1;\n",
              "}\n",
              "#T_75264_row4_col6 {\n",
              "  background-color: #69a5cc;\n",
              "  color: #f1f1f1;\n",
              "}\n",
              "#T_75264_row4_col7 {\n",
              "  background-color: #045b8f;\n",
              "  color: #f1f1f1;\n",
              "}\n",
              "#T_75264_row4_col8 {\n",
              "  background-color: #04629a;\n",
              "  color: #f1f1f1;\n",
              "}\n",
              "#T_75264_row4_col9 {\n",
              "  background-color: #a2bcda;\n",
              "  color: #000000;\n",
              "}\n",
              "#T_75264_row4_col10, #T_75264_row8_col10, #T_75264_row9_col10 {\n",
              "  background-color: #fbf3f9;\n",
              "  color: #000000;\n",
              "}\n",
              "#T_75264_row5_col0 {\n",
              "  background-color: #cacee5;\n",
              "  color: #000000;\n",
              "}\n",
              "#T_75264_row5_col1 {\n",
              "  background-color: #8cb3d5;\n",
              "  color: #000000;\n",
              "}\n",
              "#T_75264_row5_col4 {\n",
              "  background-color: #2081b9;\n",
              "  color: #f1f1f1;\n",
              "}\n",
              "#T_75264_row5_col6, #T_75264_row6_col5 {\n",
              "  background-color: #04598c;\n",
              "  color: #f1f1f1;\n",
              "}\n",
              "#T_75264_row5_col7 {\n",
              "  background-color: #157ab5;\n",
              "  color: #f1f1f1;\n",
              "}\n",
              "#T_75264_row5_col8, #T_75264_row8_col5 {\n",
              "  background-color: #045788;\n",
              "  color: #f1f1f1;\n",
              "}\n",
              "#T_75264_row5_col9 {\n",
              "  background-color: #045d92;\n",
              "  color: #f1f1f1;\n",
              "}\n",
              "#T_75264_row6_col1 {\n",
              "  background-color: #91b5d6;\n",
              "  color: #000000;\n",
              "}\n",
              "#T_75264_row6_col3 {\n",
              "  background-color: #fef6fb;\n",
              "  color: #000000;\n",
              "}\n",
              "#T_75264_row6_col4 {\n",
              "  background-color: #6fa7ce;\n",
              "  color: #f1f1f1;\n",
              "}\n",
              "#T_75264_row6_col8 {\n",
              "  background-color: #2f8bbe;\n",
              "  color: #f1f1f1;\n",
              "}\n",
              "#T_75264_row6_col9 {\n",
              "  background-color: #358fc0;\n",
              "  color: #f1f1f1;\n",
              "}\n",
              "#T_75264_row7_col1 {\n",
              "  background-color: #d0d1e6;\n",
              "  color: #000000;\n",
              "}\n",
              "#T_75264_row7_col2, #T_75264_row7_col3 {\n",
              "  background-color: #f9f2f8;\n",
              "  color: #000000;\n",
              "}\n",
              "#T_75264_row7_col4, #T_75264_row8_col7 {\n",
              "  background-color: #045b8e;\n",
              "  color: #f1f1f1;\n",
              "}\n",
              "#T_75264_row7_col5 {\n",
              "  background-color: #1278b4;\n",
              "  color: #f1f1f1;\n",
              "}\n",
              "#T_75264_row7_col6 {\n",
              "  background-color: #84b0d3;\n",
              "  color: #f1f1f1;\n",
              "}\n",
              "#T_75264_row7_col8 {\n",
              "  background-color: #045a8d;\n",
              "  color: #f1f1f1;\n",
              "}\n",
              "#T_75264_row7_col9 {\n",
              "  background-color: #569dc8;\n",
              "  color: #f1f1f1;\n",
              "}\n",
              "#T_75264_row7_col10, #T_75264_row8_col2, #T_75264_row9_col3 {\n",
              "  background-color: #fbf4f9;\n",
              "  color: #000000;\n",
              "}\n",
              "#T_75264_row8_col0 {\n",
              "  background-color: #d2d2e7;\n",
              "  color: #000000;\n",
              "}\n",
              "#T_75264_row8_col1, #T_75264_row9_col4 {\n",
              "  background-color: #a4bcda;\n",
              "  color: #000000;\n",
              "}\n",
              "#T_75264_row8_col3 {\n",
              "  background-color: #fcf4fa;\n",
              "  color: #000000;\n",
              "}\n",
              "#T_75264_row8_col4 {\n",
              "  background-color: #04639b;\n",
              "  color: #f1f1f1;\n",
              "}\n",
              "#T_75264_row8_col6 {\n",
              "  background-color: #2c89bd;\n",
              "  color: #f1f1f1;\n",
              "}\n",
              "#T_75264_row8_col9, #T_75264_row9_col8 {\n",
              "  background-color: #0568a3;\n",
              "  color: #f1f1f1;\n",
              "}\n",
              "#T_75264_row9_col1 {\n",
              "  background-color: #9ebad9;\n",
              "  color: #000000;\n",
              "}\n",
              "#T_75264_row9_col5 {\n",
              "  background-color: #045c90;\n",
              "  color: #f1f1f1;\n",
              "}\n",
              "#T_75264_row9_col6 {\n",
              "  background-color: #328dbf;\n",
              "  color: #f1f1f1;\n",
              "}\n",
              "#T_75264_row9_col7 {\n",
              "  background-color: #589ec8;\n",
              "  color: #f1f1f1;\n",
              "}\n",
              "#T_75264_row10_col0 {\n",
              "  background-color: #e4e1ef;\n",
              "  color: #000000;\n",
              "}\n",
              "#T_75264_row10_col2 {\n",
              "  background-color: #f5eff6;\n",
              "  color: #000000;\n",
              "}\n",
              "#T_75264_row10_col3, #T_75264_row10_col8 {\n",
              "  background-color: #f4edf6;\n",
              "  color: #000000;\n",
              "}\n",
              "#T_75264_row10_col5 {\n",
              "  background-color: #f1ebf5;\n",
              "  color: #000000;\n",
              "}\n",
              "#T_75264_row10_col6 {\n",
              "  background-color: #f1ebf4;\n",
              "  color: #000000;\n",
              "}\n",
              "#T_75264_row10_col9 {\n",
              "  background-color: #f4eef6;\n",
              "  color: #000000;\n",
              "}\n",
              "</style>\n",
              "<table id=\"T_75264\" class=\"dataframe\">\n",
              "  <thead>\n",
              "    <tr>\n",
              "      <th class=\"blank level0\" >&nbsp;</th>\n",
              "      <th id=\"T_75264_level0_col0\" class=\"col_heading level0 col0\" >policy_tenure</th>\n",
              "      <th id=\"T_75264_level0_col1\" class=\"col_heading level0 col1\" >age_of_car</th>\n",
              "      <th id=\"T_75264_level0_col2\" class=\"col_heading level0 col2\" >age_of_policyholder</th>\n",
              "      <th id=\"T_75264_level0_col3\" class=\"col_heading level0 col3\" >population_density</th>\n",
              "      <th id=\"T_75264_level0_col4\" class=\"col_heading level0 col4\" >airbags</th>\n",
              "      <th id=\"T_75264_level0_col5\" class=\"col_heading level0 col5\" >displacement</th>\n",
              "      <th id=\"T_75264_level0_col6\" class=\"col_heading level0 col6\" >cylinder</th>\n",
              "      <th id=\"T_75264_level0_col7\" class=\"col_heading level0 col7\" >gear_box</th>\n",
              "      <th id=\"T_75264_level0_col8\" class=\"col_heading level0 col8\" >turning_radius</th>\n",
              "      <th id=\"T_75264_level0_col9\" class=\"col_heading level0 col9\" >ncap_rating</th>\n",
              "      <th id=\"T_75264_level0_col10\" class=\"col_heading level0 col10\" >is_claim</th>\n",
              "    </tr>\n",
              "  </thead>\n",
              "  <tbody>\n",
              "    <tr>\n",
              "      <th id=\"T_75264_level0_row0\" class=\"row_heading level0 row0\" >policy_tenure</th>\n",
              "      <td id=\"T_75264_row0_col0\" class=\"data row0 col0\" >1.00</td>\n",
              "      <td id=\"T_75264_row0_col1\" class=\"data row0 col1\" >0.17</td>\n",
              "      <td id=\"T_75264_row0_col2\" class=\"data row0 col2\" >0.14</td>\n",
              "      <td id=\"T_75264_row0_col3\" class=\"data row0 col3\" >-0.10</td>\n",
              "      <td id=\"T_75264_row0_col4\" class=\"data row0 col4\" >0.10</td>\n",
              "      <td id=\"T_75264_row0_col5\" class=\"data row0 col5\" >0.19</td>\n",
              "      <td id=\"T_75264_row0_col6\" class=\"data row0 col6\" >0.19</td>\n",
              "      <td id=\"T_75264_row0_col7\" class=\"data row0 col7\" >0.10</td>\n",
              "      <td id=\"T_75264_row0_col8\" class=\"data row0 col8\" >0.17</td>\n",
              "      <td id=\"T_75264_row0_col9\" class=\"data row0 col9\" >0.17</td>\n",
              "      <td id=\"T_75264_row0_col10\" class=\"data row0 col10\" >0.08</td>\n",
              "    </tr>\n",
              "    <tr>\n",
              "      <th id=\"T_75264_level0_row1\" class=\"row_heading level0 row1\" >age_of_car</th>\n",
              "      <td id=\"T_75264_row1_col0\" class=\"data row1 col0\" >0.17</td>\n",
              "      <td id=\"T_75264_row1_col1\" class=\"data row1 col1\" >1.00</td>\n",
              "      <td id=\"T_75264_row1_col2\" class=\"data row1 col2\" >-0.05</td>\n",
              "      <td id=\"T_75264_row1_col3\" class=\"data row1 col3\" >-0.06</td>\n",
              "      <td id=\"T_75264_row1_col4\" class=\"data row1 col4\" >0.22</td>\n",
              "      <td id=\"T_75264_row1_col5\" class=\"data row1 col5\" >0.40</td>\n",
              "      <td id=\"T_75264_row1_col6\" class=\"data row1 col6\" >0.39</td>\n",
              "      <td id=\"T_75264_row1_col7\" class=\"data row1 col7\" >0.21</td>\n",
              "      <td id=\"T_75264_row1_col8\" class=\"data row1 col8\" >0.34</td>\n",
              "      <td id=\"T_75264_row1_col9\" class=\"data row1 col9\" >0.36</td>\n",
              "      <td id=\"T_75264_row1_col10\" class=\"data row1 col10\" >-0.03</td>\n",
              "    </tr>\n",
              "    <tr>\n",
              "      <th id=\"T_75264_level0_row2\" class=\"row_heading level0 row2\" >age_of_policyholder</th>\n",
              "      <td id=\"T_75264_row2_col0\" class=\"data row2 col0\" >0.14</td>\n",
              "      <td id=\"T_75264_row2_col1\" class=\"data row2 col1\" >-0.05</td>\n",
              "      <td id=\"T_75264_row2_col2\" class=\"data row2 col2\" >1.00</td>\n",
              "      <td id=\"T_75264_row2_col3\" class=\"data row2 col3\" >0.01</td>\n",
              "      <td id=\"T_75264_row2_col4\" class=\"data row2 col4\" >-0.01</td>\n",
              "      <td id=\"T_75264_row2_col5\" class=\"data row2 col5\" >-0.03</td>\n",
              "      <td id=\"T_75264_row2_col6\" class=\"data row2 col6\" >0.00</td>\n",
              "      <td id=\"T_75264_row2_col7\" class=\"data row2 col7\" >-0.00</td>\n",
              "      <td id=\"T_75264_row2_col8\" class=\"data row2 col8\" >-0.02</td>\n",
              "      <td id=\"T_75264_row2_col9\" class=\"data row2 col9\" >-0.03</td>\n",
              "      <td id=\"T_75264_row2_col10\" class=\"data row2 col10\" >0.02</td>\n",
              "    </tr>\n",
              "    <tr>\n",
              "      <th id=\"T_75264_level0_row3\" class=\"row_heading level0 row3\" >population_density</th>\n",
              "      <td id=\"T_75264_row3_col0\" class=\"data row3 col0\" >-0.10</td>\n",
              "      <td id=\"T_75264_row3_col1\" class=\"data row3 col1\" >-0.06</td>\n",
              "      <td id=\"T_75264_row3_col2\" class=\"data row3 col2\" >0.01</td>\n",
              "      <td id=\"T_75264_row3_col3\" class=\"data row3 col3\" >1.00</td>\n",
              "      <td id=\"T_75264_row3_col4\" class=\"data row3 col4\" >-0.06</td>\n",
              "      <td id=\"T_75264_row3_col5\" class=\"data row3 col5\" >-0.09</td>\n",
              "      <td id=\"T_75264_row3_col6\" class=\"data row3 col6\" >-0.09</td>\n",
              "      <td id=\"T_75264_row3_col7\" class=\"data row3 col7\" >-0.06</td>\n",
              "      <td id=\"T_75264_row3_col8\" class=\"data row3 col8\" >-0.08</td>\n",
              "      <td id=\"T_75264_row3_col9\" class=\"data row3 col9\" >-0.07</td>\n",
              "      <td id=\"T_75264_row3_col10\" class=\"data row3 col10\" >-0.02</td>\n",
              "    </tr>\n",
              "    <tr>\n",
              "      <th id=\"T_75264_level0_row4\" class=\"row_heading level0 row4\" >airbags</th>\n",
              "      <td id=\"T_75264_row4_col0\" class=\"data row4 col0\" >0.10</td>\n",
              "      <td id=\"T_75264_row4_col1\" class=\"data row4 col1\" >0.22</td>\n",
              "      <td id=\"T_75264_row4_col2\" class=\"data row4 col2\" >-0.01</td>\n",
              "      <td id=\"T_75264_row4_col3\" class=\"data row4 col3\" >-0.06</td>\n",
              "      <td id=\"T_75264_row4_col4\" class=\"data row4 col4\" >1.00</td>\n",
              "      <td id=\"T_75264_row4_col5\" class=\"data row4 col5\" >0.66</td>\n",
              "      <td id=\"T_75264_row4_col6\" class=\"data row4 col6\" >0.48</td>\n",
              "      <td id=\"T_75264_row4_col7\" class=\"data row4 col7\" >0.86</td>\n",
              "      <td id=\"T_75264_row4_col8\" class=\"data row4 col8\" >0.81</td>\n",
              "      <td id=\"T_75264_row4_col9\" class=\"data row4 col9\" >0.34</td>\n",
              "      <td id=\"T_75264_row4_col10\" class=\"data row4 col10\" >0.00</td>\n",
              "    </tr>\n",
              "    <tr>\n",
              "      <th id=\"T_75264_level0_row5\" class=\"row_heading level0 row5\" >displacement</th>\n",
              "      <td id=\"T_75264_row5_col0\" class=\"data row5 col0\" >0.19</td>\n",
              "      <td id=\"T_75264_row5_col1\" class=\"data row5 col1\" >0.40</td>\n",
              "      <td id=\"T_75264_row5_col2\" class=\"data row5 col2\" >-0.03</td>\n",
              "      <td id=\"T_75264_row5_col3\" class=\"data row5 col3\" >-0.09</td>\n",
              "      <td id=\"T_75264_row5_col4\" class=\"data row5 col4\" >0.66</td>\n",
              "      <td id=\"T_75264_row5_col5\" class=\"data row5 col5\" >1.00</td>\n",
              "      <td id=\"T_75264_row5_col6\" class=\"data row5 col6\" >0.87</td>\n",
              "      <td id=\"T_75264_row5_col7\" class=\"data row5 col7\" >0.69</td>\n",
              "      <td id=\"T_75264_row5_col8\" class=\"data row5 col8\" >0.88</td>\n",
              "      <td id=\"T_75264_row5_col9\" class=\"data row5 col9\" >0.85</td>\n",
              "      <td id=\"T_75264_row5_col10\" class=\"data row5 col10\" >0.01</td>\n",
              "    </tr>\n",
              "    <tr>\n",
              "      <th id=\"T_75264_level0_row6\" class=\"row_heading level0 row6\" >cylinder</th>\n",
              "      <td id=\"T_75264_row6_col0\" class=\"data row6 col0\" >0.19</td>\n",
              "      <td id=\"T_75264_row6_col1\" class=\"data row6 col1\" >0.39</td>\n",
              "      <td id=\"T_75264_row6_col2\" class=\"data row6 col2\" >0.00</td>\n",
              "      <td id=\"T_75264_row6_col3\" class=\"data row6 col3\" >-0.09</td>\n",
              "      <td id=\"T_75264_row6_col4\" class=\"data row6 col4\" >0.48</td>\n",
              "      <td id=\"T_75264_row6_col5\" class=\"data row6 col5\" >0.87</td>\n",
              "      <td id=\"T_75264_row6_col6\" class=\"data row6 col6\" >1.00</td>\n",
              "      <td id=\"T_75264_row6_col7\" class=\"data row6 col7\" >0.41</td>\n",
              "      <td id=\"T_75264_row6_col8\" class=\"data row6 col8\" >0.62</td>\n",
              "      <td id=\"T_75264_row6_col9\" class=\"data row6 col9\" >0.60</td>\n",
              "      <td id=\"T_75264_row6_col10\" class=\"data row6 col10\" >0.01</td>\n",
              "    </tr>\n",
              "    <tr>\n",
              "      <th id=\"T_75264_level0_row7\" class=\"row_heading level0 row7\" >gear_box</th>\n",
              "      <td id=\"T_75264_row7_col0\" class=\"data row7 col0\" >0.10</td>\n",
              "      <td id=\"T_75264_row7_col1\" class=\"data row7 col1\" >0.21</td>\n",
              "      <td id=\"T_75264_row7_col2\" class=\"data row7 col2\" >-0.00</td>\n",
              "      <td id=\"T_75264_row7_col3\" class=\"data row7 col3\" >-0.06</td>\n",
              "      <td id=\"T_75264_row7_col4\" class=\"data row7 col4\" >0.86</td>\n",
              "      <td id=\"T_75264_row7_col5\" class=\"data row7 col5\" >0.69</td>\n",
              "      <td id=\"T_75264_row7_col6\" class=\"data row7 col6\" >0.41</td>\n",
              "      <td id=\"T_75264_row7_col7\" class=\"data row7 col7\" >1.00</td>\n",
              "      <td id=\"T_75264_row7_col8\" class=\"data row7 col8\" >0.86</td>\n",
              "      <td id=\"T_75264_row7_col9\" class=\"data row7 col9\" >0.53</td>\n",
              "      <td id=\"T_75264_row7_col10\" class=\"data row7 col10\" >-0.00</td>\n",
              "    </tr>\n",
              "    <tr>\n",
              "      <th id=\"T_75264_level0_row8\" class=\"row_heading level0 row8\" >turning_radius</th>\n",
              "      <td id=\"T_75264_row8_col0\" class=\"data row8 col0\" >0.17</td>\n",
              "      <td id=\"T_75264_row8_col1\" class=\"data row8 col1\" >0.34</td>\n",
              "      <td id=\"T_75264_row8_col2\" class=\"data row8 col2\" >-0.02</td>\n",
              "      <td id=\"T_75264_row8_col3\" class=\"data row8 col3\" >-0.08</td>\n",
              "      <td id=\"T_75264_row8_col4\" class=\"data row8 col4\" >0.81</td>\n",
              "      <td id=\"T_75264_row8_col5\" class=\"data row8 col5\" >0.88</td>\n",
              "      <td id=\"T_75264_row8_col6\" class=\"data row8 col6\" >0.62</td>\n",
              "      <td id=\"T_75264_row8_col7\" class=\"data row8 col7\" >0.86</td>\n",
              "      <td id=\"T_75264_row8_col8\" class=\"data row8 col8\" >1.00</td>\n",
              "      <td id=\"T_75264_row8_col9\" class=\"data row8 col9\" >0.78</td>\n",
              "      <td id=\"T_75264_row8_col10\" class=\"data row8 col10\" >0.00</td>\n",
              "    </tr>\n",
              "    <tr>\n",
              "      <th id=\"T_75264_level0_row9\" class=\"row_heading level0 row9\" >ncap_rating</th>\n",
              "      <td id=\"T_75264_row9_col0\" class=\"data row9 col0\" >0.17</td>\n",
              "      <td id=\"T_75264_row9_col1\" class=\"data row9 col1\" >0.36</td>\n",
              "      <td id=\"T_75264_row9_col2\" class=\"data row9 col2\" >-0.03</td>\n",
              "      <td id=\"T_75264_row9_col3\" class=\"data row9 col3\" >-0.07</td>\n",
              "      <td id=\"T_75264_row9_col4\" class=\"data row9 col4\" >0.34</td>\n",
              "      <td id=\"T_75264_row9_col5\" class=\"data row9 col5\" >0.85</td>\n",
              "      <td id=\"T_75264_row9_col6\" class=\"data row9 col6\" >0.60</td>\n",
              "      <td id=\"T_75264_row9_col7\" class=\"data row9 col7\" >0.53</td>\n",
              "      <td id=\"T_75264_row9_col8\" class=\"data row9 col8\" >0.78</td>\n",
              "      <td id=\"T_75264_row9_col9\" class=\"data row9 col9\" >1.00</td>\n",
              "      <td id=\"T_75264_row9_col10\" class=\"data row9 col10\" >0.00</td>\n",
              "    </tr>\n",
              "    <tr>\n",
              "      <th id=\"T_75264_level0_row10\" class=\"row_heading level0 row10\" >is_claim</th>\n",
              "      <td id=\"T_75264_row10_col0\" class=\"data row10 col0\" >0.08</td>\n",
              "      <td id=\"T_75264_row10_col1\" class=\"data row10 col1\" >-0.03</td>\n",
              "      <td id=\"T_75264_row10_col2\" class=\"data row10 col2\" >0.02</td>\n",
              "      <td id=\"T_75264_row10_col3\" class=\"data row10 col3\" >-0.02</td>\n",
              "      <td id=\"T_75264_row10_col4\" class=\"data row10 col4\" >0.00</td>\n",
              "      <td id=\"T_75264_row10_col5\" class=\"data row10 col5\" >0.01</td>\n",
              "      <td id=\"T_75264_row10_col6\" class=\"data row10 col6\" >0.01</td>\n",
              "      <td id=\"T_75264_row10_col7\" class=\"data row10 col7\" >-0.00</td>\n",
              "      <td id=\"T_75264_row10_col8\" class=\"data row10 col8\" >0.00</td>\n",
              "      <td id=\"T_75264_row10_col9\" class=\"data row10 col9\" >0.00</td>\n",
              "      <td id=\"T_75264_row10_col10\" class=\"data row10 col10\" >1.00</td>\n",
              "    </tr>\n",
              "  </tbody>\n",
              "</table>\n"
            ]
          },
          "metadata": {},
          "execution_count": 329
        }
      ]
    },
    {
      "cell_type": "code",
      "source": [
        "del df_vector\n",
        "del matrix\n",
        "del corr_matrix\n",
        "del corr_matrix_df"
      ],
      "metadata": {
        "id": "e9ygaTr0Ztkn"
      },
      "execution_count": 330,
      "outputs": []
    },
    {
      "cell_type": "code",
      "source": [
        "## dropped lowest coleration -> age_of_policy_holder, population_density\n",
        "selected_columns = unproblematic_columns\n",
        "\n",
        "selected_columns.remove('age_of_policyholder')\n",
        "selected_columns.remove('population_density')\n",
        "\n",
        "df_preprocess = df_preprocess.drop('age_of_policyholder')\n",
        "df_preprocess = df_preprocess.drop('population_density')\n",
        "\n",
        "df_preprocess.show()"
      ],
      "metadata": {
        "colab": {
          "base_uri": "https://localhost:8080/"
        },
        "id": "Tz2GZuIHkl8P",
        "outputId": "c30285dc-7387-4718-ce54-9e1d8148d3e5"
      },
      "execution_count": 331,
      "outputs": [
        {
          "output_type": "stream",
          "name": "stdout",
          "text": [
            "+---------+-----------------+----------+-------+------------+--------+--------+--------------+-----------+--------+\n",
            "|policy_id|    policy_tenure|age_of_car|airbags|displacement|cylinder|gear_box|turning_radius|ncap_rating|is_claim|\n",
            "+---------+-----------------+----------+-------+------------+--------+--------+--------------+-----------+--------+\n",
            "|  ID00001|0.515873589958172|      0.05|      2|         796|       3|       5|           4.6|          0|       0|\n",
            "|  ID00002|0.672618513547733|      0.02|      2|         796|       3|       5|           4.6|          0|       0|\n",
            "|  ID00003|0.841110255796233|      0.02|      2|         796|       3|       5|           4.6|          0|       0|\n",
            "|  ID00004|0.900276558749967|      0.11|      2|        1197|       4|       5|           4.8|          2|       0|\n",
            "|  ID00005|0.596402813108729|      0.11|      2|         999|       3|       5|           5.0|          2|       0|\n",
            "|  ID00006| 1.01870853782142|      0.07|      6|        1493|       4|       6|           5.2|          3|       0|\n",
            "|  ID00007|0.097992157807911|      0.16|      2|        1497|       4|       5|           5.0|          5|       0|\n",
            "|  ID00008|0.509084671398517|      0.14|      2|        1197|       4|       5|           4.8|          2|       0|\n",
            "|  ID00009|0.282393518287139|      0.07|      6|        1493|       4|       6|           5.2|          3|       0|\n",
            "|  ID00010|0.566255432742967|      0.04|      6|        1197|       4|       5|          4.85|          0|       0|\n",
            "|  ID00011|0.951416171038409|      0.01|      2|         796|       3|       5|           4.6|          0|       0|\n",
            "|  ID00012|0.083180015193718|      0.12|      2|         998|       3|       5|           4.7|          2|       0|\n",
            "|  ID00013|0.045833998629361|      0.03|      2|        1197|       4|       5|           4.8|          2|       1|\n",
            "|  ID00014|0.520336974243094|       0.1|      2|        1197|       4|       5|           4.8|          2|       0|\n",
            "|  ID00015|0.213588587564883|      0.04|      2|         796|       3|       5|           4.6|          0|       0|\n",
            "|  ID00016|0.897770850967484|      0.04|      6|        1493|       4|       6|           5.2|          3|       0|\n",
            "|  ID00017|0.321144554416969|      0.03|      2|         796|       3|       5|           4.6|          0|       0|\n",
            "|  ID00018| 0.24142124790882|      0.12|      2|        1498|       4|       5|           4.9|          4|       0|\n",
            "|  ID00019| 0.29596672924548|      0.12|      6|        1493|       4|       6|           5.2|          3|       0|\n",
            "|  ID00020|0.758622595499839|      0.09|      2|        1197|       4|       5|           4.8|          2|       1|\n",
            "+---------+-----------------+----------+-------+------------+--------+--------+--------------+-----------+--------+\n",
            "only showing top 20 rows\n",
            "\n"
          ]
        }
      ]
    },
    {
      "cell_type": "markdown",
      "source": [
        "## Feature Scaling"
      ],
      "metadata": {
        "id": "uQ9cILDKl_t_"
      }
    },
    {
      "cell_type": "code",
      "source": [
        "vecAssembler = VectorAssembler(inputCols=selected_columns, outputCol=\"features\")\n",
        "df_preprocess = vecAssembler.transform(df_preprocess.select(selected_columns))\n",
        "\n",
        "# Scale features using StandardScaler\n",
        "scaler = StandardScaler(inputCol=\"features\", outputCol=\"scaled_features\", withStd=True, withMean=True)\n",
        "scalerModel = scaler.fit(df_preprocess)\n",
        "df_preprocess = scalerModel.transform(df_preprocess)\n",
        "df_preprocess = df_preprocess\n",
        "df_preprocess.show()\n"
      ],
      "metadata": {
        "colab": {
          "base_uri": "https://localhost:8080/"
        },
        "id": "YYeyMn7_X678",
        "outputId": "5de37767-beeb-4406-8abf-08db630bb9a3"
      },
      "execution_count": 332,
      "outputs": [
        {
          "output_type": "stream",
          "name": "stdout",
          "text": [
            "+-----------------+----------+-------+------------+--------+--------+--------------+-----------+--------+--------------------+--------------------+\n",
            "|    policy_tenure|age_of_car|airbags|displacement|cylinder|gear_box|turning_radius|ncap_rating|is_claim|            features|     scaled_features|\n",
            "+-----------------+----------+-------+------------+--------+--------+--------------+-----------+--------+--------------------+--------------------+\n",
            "|0.515873589958172|      0.05|      2|         796|       3|       5|           4.6|          0|       0|[0.51587358995817...|[-0.2279832951938...|\n",
            "|0.672618513547733|      0.02|      2|         796|       3|       5|           4.6|          0|       0|[0.67261851354773...|[0.15055640841964...|\n",
            "|0.841110255796233|      0.02|      2|         796|       3|       5|           4.6|          0|       0|[0.84111025579623...|[0.55746473253919...|\n",
            "|0.900276558749967|      0.11|      2|        1197|       4|       5|           4.8|          2|       0|[0.90027655874996...|[0.70035162336228...|\n",
            "|0.596402813108729|      0.11|      2|         999|       3|       5|           5.0|          2|       0|[0.59640281310872...|[-0.0335048549002...|\n",
            "| 1.01870853782142|      0.07|      6|        1493|       4|       6|           5.2|          3|       0|[1.01870853782142...|[0.98636539165160...|\n",
            "|0.097992157807911|      0.16|      2|        1497|       4|       5|           5.0|          5|       0|[0.09799215780791...|[-1.2371688550782...|\n",
            "|0.509084671398517|      0.14|      2|        1197|       4|       5|           4.8|          2|       0|[0.50908467139851...|[-0.2443785644031...|\n",
            "|0.282393518287139|      0.07|      6|        1493|       4|       6|           5.2|          3|       0|[0.28239351828713...|[-0.7918387305472...|\n",
            "|0.566255432742967|      0.04|      6|        1197|       4|       5|          4.85|          0|       0|[0.56625543274296...|[-0.1063109156455...|\n",
            "|0.951416171038409|      0.01|      2|         796|       3|       5|           4.6|          0|       0|[0.95141617103840...|[0.82385401970953...|\n",
            "|0.083180015193718|      0.12|      2|         998|       3|       5|           4.7|          2|       0|[0.08318001519371...|[-1.2729402468825...|\n",
            "|0.045833998629361|      0.03|      2|        1197|       4|       5|           4.8|          2|       1|[0.04583399862936...|[-1.3631310467991...|\n",
            "|0.520336974243094|       0.1|      2|        1197|       4|       5|           4.8|          2|       0|[0.52033697424309...|[-0.2172042018386...|\n",
            "|0.213588587564883|      0.04|      2|         796|       3|       5|           4.6|          0|       0|[0.21358858756488...|[-0.9580029512843...|\n",
            "|0.897770850967484|      0.04|      6|        1493|       4|       6|           5.2|          3|       0|[0.89777085096748...|[0.69430032766732...|\n",
            "|0.321144554416969|      0.03|      2|         796|       3|       5|           4.6|          0|       0|[0.32114455441696...|[-0.6982548019875...|\n",
            "| 0.24142124790882|      0.12|      2|        1498|       4|       5|           4.9|          4|       0|[0.24142124790882...|[-0.8907869499230...|\n",
            "| 0.29596672924548|      0.12|      6|        1493|       4|       6|           5.2|          3|       0|[0.29596672924548...|[-0.7590593643286...|\n",
            "|0.758622595499839|      0.09|      2|        1197|       4|       5|           4.8|          2|       1|[0.75862259549983...|[0.35825665762804...|\n",
            "+-----------------+----------+-------+------------+--------+--------+--------------+-----------+--------+--------------------+--------------------+\n",
            "only showing top 20 rows\n",
            "\n"
          ]
        }
      ]
    },
    {
      "cell_type": "code",
      "source": [
        "df_preprocess = df_preprocess.withColumnRenamed(\"is_claim\",\"label\")\n",
        "df_preprocess.show()"
      ],
      "metadata": {
        "colab": {
          "base_uri": "https://localhost:8080/"
        },
        "id": "J8HyNPOCzNwn",
        "outputId": "3391f853-91af-43c3-d168-77b3c1d6779f"
      },
      "execution_count": 333,
      "outputs": [
        {
          "output_type": "stream",
          "name": "stdout",
          "text": [
            "+-----------------+----------+-------+------------+--------+--------+--------------+-----------+-----+--------------------+--------------------+\n",
            "|    policy_tenure|age_of_car|airbags|displacement|cylinder|gear_box|turning_radius|ncap_rating|label|            features|     scaled_features|\n",
            "+-----------------+----------+-------+------------+--------+--------+--------------+-----------+-----+--------------------+--------------------+\n",
            "|0.515873589958172|      0.05|      2|         796|       3|       5|           4.6|          0|    0|[0.51587358995817...|[-0.2279832951938...|\n",
            "|0.672618513547733|      0.02|      2|         796|       3|       5|           4.6|          0|    0|[0.67261851354773...|[0.15055640841964...|\n",
            "|0.841110255796233|      0.02|      2|         796|       3|       5|           4.6|          0|    0|[0.84111025579623...|[0.55746473253919...|\n",
            "|0.900276558749967|      0.11|      2|        1197|       4|       5|           4.8|          2|    0|[0.90027655874996...|[0.70035162336228...|\n",
            "|0.596402813108729|      0.11|      2|         999|       3|       5|           5.0|          2|    0|[0.59640281310872...|[-0.0335048549002...|\n",
            "| 1.01870853782142|      0.07|      6|        1493|       4|       6|           5.2|          3|    0|[1.01870853782142...|[0.98636539165160...|\n",
            "|0.097992157807911|      0.16|      2|        1497|       4|       5|           5.0|          5|    0|[0.09799215780791...|[-1.2371688550782...|\n",
            "|0.509084671398517|      0.14|      2|        1197|       4|       5|           4.8|          2|    0|[0.50908467139851...|[-0.2443785644031...|\n",
            "|0.282393518287139|      0.07|      6|        1493|       4|       6|           5.2|          3|    0|[0.28239351828713...|[-0.7918387305472...|\n",
            "|0.566255432742967|      0.04|      6|        1197|       4|       5|          4.85|          0|    0|[0.56625543274296...|[-0.1063109156455...|\n",
            "|0.951416171038409|      0.01|      2|         796|       3|       5|           4.6|          0|    0|[0.95141617103840...|[0.82385401970953...|\n",
            "|0.083180015193718|      0.12|      2|         998|       3|       5|           4.7|          2|    0|[0.08318001519371...|[-1.2729402468825...|\n",
            "|0.045833998629361|      0.03|      2|        1197|       4|       5|           4.8|          2|    1|[0.04583399862936...|[-1.3631310467991...|\n",
            "|0.520336974243094|       0.1|      2|        1197|       4|       5|           4.8|          2|    0|[0.52033697424309...|[-0.2172042018386...|\n",
            "|0.213588587564883|      0.04|      2|         796|       3|       5|           4.6|          0|    0|[0.21358858756488...|[-0.9580029512843...|\n",
            "|0.897770850967484|      0.04|      6|        1493|       4|       6|           5.2|          3|    0|[0.89777085096748...|[0.69430032766732...|\n",
            "|0.321144554416969|      0.03|      2|         796|       3|       5|           4.6|          0|    0|[0.32114455441696...|[-0.6982548019875...|\n",
            "| 0.24142124790882|      0.12|      2|        1498|       4|       5|           4.9|          4|    0|[0.24142124790882...|[-0.8907869499230...|\n",
            "| 0.29596672924548|      0.12|      6|        1493|       4|       6|           5.2|          3|    0|[0.29596672924548...|[-0.7590593643286...|\n",
            "|0.758622595499839|      0.09|      2|        1197|       4|       5|           4.8|          2|    1|[0.75862259549983...|[0.35825665762804...|\n",
            "+-----------------+----------+-------+------------+--------+--------+--------------+-----------+-----+--------------------+--------------------+\n",
            "only showing top 20 rows\n",
            "\n"
          ]
        }
      ]
    },
    {
      "cell_type": "code",
      "source": [
        "# pandas_df = df_preprocess.toPandas()\n",
        "# train_size = int(0.8 *len(pandas_df))\n",
        "\n",
        "# pandas_train_df = pandas_df[:train_size]\n",
        "# trainingData = spark.createDataFrame(pandas_train_df)\n",
        "# del pandas_train_df\n",
        "\n",
        "# pandas_test_df = pandas_df[train_size:]\n",
        "# testData = spark.createDataFrame(pandas_test_df)\n",
        "# del pandas_test_df"
      ],
      "metadata": {
        "colab": {
          "base_uri": "https://localhost:8080/"
        },
        "id": "IXAZHFcC70NG",
        "outputId": "16c971b1-f3e7-4d36-84e1-f763552dcc8b"
      },
      "execution_count": 395,
      "outputs": [
        {
          "output_type": "stream",
          "name": "stderr",
          "text": [
            "/content/spark-3.2.4-bin-hadoop3.2/python/pyspark/sql/pandas/conversion.py:371: FutureWarning: iteritems is deprecated and will be removed in a future version. Use .items instead.\n",
            "  for column, series in pdf.iteritems():\n"
          ]
        }
      ]
    },
    {
      "cell_type": "code",
      "source": [
        "# policy = df.select('policy_id', 'policy_tenure')"
      ],
      "metadata": {
        "id": "b5ENbIx7wKw4"
      },
      "execution_count": 308,
      "outputs": []
    },
    {
      "cell_type": "code",
      "source": [
        "# preprocess_pandas = df_preprocess.toPandas()\n",
        "# policy_pandas = policy.toPandas()"
      ],
      "metadata": {
        "id": "46hs2pe-wCaq"
      },
      "execution_count": 309,
      "outputs": []
    },
    {
      "cell_type": "code",
      "source": [
        "# preprocess_pandas = df_preprocess.toPandas()\n",
        "# policy_pandas = df.select('policy_id').toPandas\n",
        "\n",
        "# preprocess_pandas['policy_id'] = policy_pandas['policy_id'].values\n",
        "# df_from_pandas = spark.createDataFrame(preprocess_pandas)\n",
        "\n",
        "# df_from_pandas.show()"
      ],
      "metadata": {
        "id": "UCOPh761vM_y"
      },
      "execution_count": null,
      "outputs": []
    },
    {
      "cell_type": "code",
      "source": [
        "(trainingData, testData) = df_preprocess.randomSplit([0.8, 0.2], seed=100)\n",
        "print(trainingData.count())\n",
        "print(testData.count())"
      ],
      "metadata": {
        "colab": {
          "base_uri": "https://localhost:8080/"
        },
        "id": "fFGHAR0TmRjo",
        "outputId": "4600916d-62d4-4b67-b216-bc5b1d0feaaf"
      },
      "execution_count": 419,
      "outputs": [
        {
          "output_type": "stream",
          "name": "stdout",
          "text": [
            "46671\n",
            "11587\n"
          ]
        }
      ]
    },
    {
      "cell_type": "markdown",
      "source": [
        "# Modeling"
      ],
      "metadata": {
        "id": "tzfQ41l2pO15"
      }
    },
    {
      "cell_type": "markdown",
      "source": [
        "## Logistic Regression"
      ],
      "metadata": {
        "id": "z2-pJpPDpQsS"
      }
    },
    {
      "cell_type": "code",
      "source": [
        "# Create initial LogisticRegression model\n",
        "lr = LogisticRegression(labelCol=\"label\", featuresCol=\"scaled_features\", maxIter=10)\n",
        "\n",
        "# Train model with Training Data\n",
        "lrModel = lr.fit(trainingData)"
      ],
      "metadata": {
        "id": "1ptryZ5FpjV6"
      },
      "execution_count": 420,
      "outputs": []
    },
    {
      "cell_type": "code",
      "source": [
        "# Make predictions on test data using the transform() method.\n",
        "# LogisticRegression.transform() will only use the 'features' column.\n",
        "predictions = lrModel.transform(testData)\n",
        "predictions.show()"
      ],
      "metadata": {
        "colab": {
          "base_uri": "https://localhost:8080/"
        },
        "id": "vRTnvwOBqF8Y",
        "outputId": "e23623c7-1628-42da-cd0e-ea4989b13b69"
      },
      "execution_count": 421,
      "outputs": [
        {
          "output_type": "stream",
          "name": "stdout",
          "text": [
            "+-----------------+----------+-------+------------+--------+--------+--------------+-----------+-----+--------------------+--------------------+--------------------+--------------------+----------+\n",
            "|    policy_tenure|age_of_car|airbags|displacement|cylinder|gear_box|turning_radius|ncap_rating|label|            features|     scaled_features|       rawPrediction|         probability|prediction|\n",
            "+-----------------+----------+-------+------------+--------+--------+--------------+-----------+-----+--------------------+--------------------+--------------------+--------------------+----------+\n",
            "|0.002747851054561|      0.08|      2|        1197|       4|       5|           4.8|          2|    0|[0.00274785105456...|[-1.4671842892220...|[8.95361471391268...|[0.99987074766443...|       0.0|\n",
            "|0.002770853710949|      0.01|      2|        1197|       4|       5|           4.8|          2|    0|[0.00277085371094...|[-1.4671287377022...|[8.94705533328493...|[0.99986989717317...|       0.0|\n",
            "| 0.00277288700797|      0.02|      2|         998|       3|       5|           4.7|          2|    0|[0.00277288700797...|[-1.4671238272806...|[9.10366782687999...|[0.99988875538890...|       0.0|\n",
            "|0.002784135242004|      0.16|      6|        1197|       4|       5|          4.85|          0|    0|[0.00278413524200...|[-1.4670966627442...|[8.98064549087279...|[0.99987419422449...|       0.0|\n",
            "| 0.00280076098682|      0.01|      6|        1493|       4|       6|           5.2|          3|    0|[0.00280076098682...|[-1.4670565114949...|[8.81521658715262...|[0.99985156524149...|       0.0|\n",
            "|0.002806757440865|      0.13|      2|        1197|       4|       5|           4.8|          2|    0|[0.00280675744086...|[-1.4670420300311...|[8.95828583359628...|[0.99987134993216...|       0.0|\n",
            "|0.002815811525409|      0.06|      6|        1493|       4|       6|           5.2|          3|    0|[0.00281581152540...|[-1.4670201643757...|[8.81989594525334...|[0.99985225809594...|       0.0|\n",
            "|0.002816224339969|      0.17|      6|        1493|       4|       6|           5.2|          3|    0|[0.00281622433996...|[-1.4670191674266...|[8.83019667553545...|[0.99985377191281...|       0.0|\n",
            "|0.002820180333696|      0.05|      2|        1497|       4|       5|           5.0|          5|    0|[0.00282018033369...|[-1.4670096136838...|[8.80659576433462...|[0.99985028027254...|       0.0|\n",
            "|0.002822155079513|       0.0|      1|        1196|       4|       5|           4.5|          0|    0|[0.00282215507951...|[-1.4670048446637...|[9.03915699693339...|[0.99988134324691...|       0.0|\n",
            "|0.002831082824254|      0.05|      2|        1197|       4|       5|           4.8|          2|    0|[0.00283108282425...|[-1.4669832841195...|[8.95078976741589...|[0.99987038206467...|       0.0|\n",
            "|0.002831293016535|      0.04|      6|        1493|       4|       6|           5.2|          3|    0|[0.00283129301653...|[-1.4669827765042...|[8.81802016287035...|[0.99985198074526...|       0.0|\n",
            "|0.002851272844543|      0.01|      6|        1493|       4|       6|           5.2|          3|    0|[0.00285127284454...|[-1.4669345251286...|[8.81520709838944...|[0.99985156383323...|       0.0|\n",
            "|0.002868211767749|      0.08|      6|        1493|       4|       6|           5.2|          3|    0|[0.00286821176774...|[-1.4668936175520...|[8.82175897590392...|[0.99985253304685...|       0.0|\n",
            "| 0.00286964195091|      0.03|      6|        1493|       4|       6|           5.2|          3|    0|[0.00286964195091...|[-1.4668901636532...|[8.81707652186350...|[0.99985184102300...|       0.0|\n",
            "|0.002880433056274|      0.01|      2|        1197|       4|       5|           4.8|          2|    0|[0.00288043305627...|[-1.4668641030846...|[8.94703474856475...|[0.99986989449536...|       0.0|\n",
            "|0.002917205531787|      0.08|      2|        1197|       4|       5|           4.8|          2|    0|[0.00291720553178...|[-1.4667752973890...|[8.95358290030296...|[0.99987074355291...|       0.0|\n",
            "|0.002927041427338|       0.0|      2|         796|       3|       5|           4.6|          0|    0|[0.00292704142733...|[-1.4667515436565...|[9.19409823145857...|[0.99989837285301...|       0.0|\n",
            "|0.002950977716199|       0.1|      2|        1197|       4|       5|           4.8|          2|    0|[0.00295097771619...|[-1.4666937374100...|[8.95544943027505...|[0.99987098455783...|       0.0|\n",
            "| 0.00298855087476|      0.17|      2|        1197|       4|       5|           4.8|          2|    0|[0.00298855087476...|[-1.4666029980611...|[8.96199743160319...|[0.99987182648336...|       0.0|\n",
            "+-----------------+----------+-------+------------+--------+--------+--------------+-----------+-----+--------------------+--------------------+--------------------+--------------------+----------+\n",
            "only showing top 20 rows\n",
            "\n"
          ]
        }
      ]
    },
    {
      "cell_type": "code",
      "source": [
        "# Evaluate model\n",
        "evaluator = BinaryClassificationEvaluator()\n",
        "evaluator.evaluate(predictions)\n"
      ],
      "metadata": {
        "colab": {
          "base_uri": "https://localhost:8080/"
        },
        "id": "gcLNKgfdy58m",
        "outputId": "d58a5177-14f7-4dac-d518-3790713e0b61"
      },
      "execution_count": 422,
      "outputs": [
        {
          "output_type": "execute_result",
          "data": {
            "text/plain": [
              "0.9999988452344751"
            ]
          },
          "metadata": {},
          "execution_count": 422
        }
      ]
    },
    {
      "cell_type": "code",
      "source": [
        "print(lr.explainParams())"
      ],
      "metadata": {
        "colab": {
          "base_uri": "https://localhost:8080/"
        },
        "id": "TwVj8ZpJ0SUo",
        "outputId": "bd2aa2de-f2ea-40c6-fa59-cb27b2a1915b"
      },
      "execution_count": 423,
      "outputs": [
        {
          "output_type": "stream",
          "name": "stdout",
          "text": [
            "aggregationDepth: suggested depth for treeAggregate (>= 2). (default: 2)\n",
            "elasticNetParam: the ElasticNet mixing parameter, in range [0, 1]. For alpha = 0, the penalty is an L2 penalty. For alpha = 1, it is an L1 penalty. (default: 0.0)\n",
            "family: The name of family which is a description of the label distribution to be used in the model. Supported options: auto, binomial, multinomial (default: auto)\n",
            "featuresCol: features column name. (default: features, current: scaled_features)\n",
            "fitIntercept: whether to fit an intercept term. (default: True)\n",
            "labelCol: label column name. (default: label, current: label)\n",
            "lowerBoundsOnCoefficients: The lower bounds on coefficients if fitting under bound constrained optimization. The bound matrix must be compatible with the shape (1, number of features) for binomial regression, or (number of classes, number of features) for multinomial regression. (undefined)\n",
            "lowerBoundsOnIntercepts: The lower bounds on intercepts if fitting under bound constrained optimization. The bounds vector size must beequal with 1 for binomial regression, or the number oflasses for multinomial regression. (undefined)\n",
            "maxBlockSizeInMB: maximum memory in MB for stacking input data into blocks. Data is stacked within partitions. If more than remaining data size in a partition then it is adjusted to the data size. Default 0.0 represents choosing optimal value, depends on specific algorithm. Must be >= 0. (default: 0.0)\n",
            "maxIter: max number of iterations (>= 0). (default: 100, current: 10)\n",
            "predictionCol: prediction column name. (default: prediction)\n",
            "probabilityCol: Column name for predicted class conditional probabilities. Note: Not all models output well-calibrated probability estimates! These probabilities should be treated as confidences, not precise probabilities. (default: probability)\n",
            "rawPredictionCol: raw prediction (a.k.a. confidence) column name. (default: rawPrediction)\n",
            "regParam: regularization parameter (>= 0). (default: 0.0)\n",
            "standardization: whether to standardize the training features before fitting the model. (default: True)\n",
            "threshold: Threshold in binary classification prediction, in range [0, 1]. If threshold and thresholds are both set, they must match.e.g. if threshold is p, then thresholds must be equal to [1-p, p]. (default: 0.5)\n",
            "thresholds: Thresholds in multi-class classification to adjust the probability of predicting each class. Array must have length equal to the number of classes, with values > 0, excepting that at most one value may be 0. The class with largest value p/t is predicted, where p is the original probability of that class and t is the class's threshold. (undefined)\n",
            "tol: the convergence tolerance for iterative algorithms (>= 0). (default: 1e-06)\n",
            "upperBoundsOnCoefficients: The upper bounds on coefficients if fitting under bound constrained optimization. The bound matrix must be compatible with the shape (1, number of features) for binomial regression, or (number of classes, number of features) for multinomial regression. (undefined)\n",
            "upperBoundsOnIntercepts: The upper bounds on intercepts if fitting under bound constrained optimization. The bound vector size must be equal with 1 for binomial regression, or the number of classes for multinomial regression. (undefined)\n",
            "weightCol: weight column name. If this is not set or empty, we treat all instance weights as 1.0. (undefined)\n"
          ]
        }
      ]
    },
    {
      "cell_type": "code",
      "source": [
        "# Create ParamGrid for Cross Validation\n",
        "paramGrid = (ParamGridBuilder()\n",
        "             .addGrid(lr.regParam, [0.1, 0.5, 1.25, 2])\n",
        "             .addGrid(lr.elasticNetParam, [0.0, 0.5, 1.0])\n",
        "             .addGrid(lr.maxIter, [1, 5, 10])\n",
        "             .build())\n"
      ],
      "metadata": {
        "id": "59UdLFrW0XI_"
      },
      "execution_count": 424,
      "outputs": []
    },
    {
      "cell_type": "code",
      "source": [
        "# Create 5-fold CrossValidator\n",
        "cv = CrossValidator(estimator=lr, estimatorParamMaps=paramGrid, evaluator=evaluator, numFolds=5)\n",
        "\n",
        "# Run cross validations\n",
        "cvModel = cv.fit(trainingData)\n"
      ],
      "metadata": {
        "id": "ewVmU2AF0hAq"
      },
      "execution_count": 345,
      "outputs": []
    },
    {
      "cell_type": "code",
      "source": [
        "best_model = cvModel.bestModel\n",
        "\n",
        "print('Best regParam: ',best_model._java_obj.getRegParam())\n",
        "print('Best elasticNetParam: ', best_model._java_obj.getElasticNetParam())\n",
        "print('Best maxIter: ', best_model._java_obj.getMaxIter())"
      ],
      "metadata": {
        "colab": {
          "base_uri": "https://localhost:8080/"
        },
        "id": "foNy5J1F2jPW",
        "outputId": "b23b2e26-ac09-4af5-c3b8-5ae72c0e6dde"
      },
      "execution_count": 401,
      "outputs": [
        {
          "output_type": "stream",
          "name": "stdout",
          "text": [
            "Best regParam:  0.1\n",
            "Best elasticNetParam:  0.5\n",
            "Best maxIter:  1\n"
          ]
        }
      ]
    },
    {
      "cell_type": "code",
      "source": [
        "# Measure the accuracy on training data and test data\n",
        "predictions_train = best_model.transform(trainingData)\n",
        "predictions_test = best_model.transform(testData)"
      ],
      "metadata": {
        "id": "NBhQfIxS3oT4"
      },
      "execution_count": 425,
      "outputs": []
    },
    {
      "cell_type": "code",
      "source": [
        "# Create an evaluator for accuracy.\n",
        "evaluator = MulticlassClassificationEvaluator(metricName=\"accuracy\")\n",
        "accuracy = evaluator.evaluate(predictions_train)\n",
        "print(f'Train Accuracy: {accuracy}')\n",
        "\n",
        "accuracy = evaluator.evaluate(predictions_test)\n",
        "print(f'Test Accuracy: {accuracy}')"
      ],
      "metadata": {
        "colab": {
          "base_uri": "https://localhost:8080/"
        },
        "id": "ycVbJ-Q83uEm",
        "outputId": "536d7e25-fe8e-4a29-e7d2-b3a3f98f1ca0"
      },
      "execution_count": 426,
      "outputs": [
        {
          "output_type": "stream",
          "name": "stdout",
          "text": [
            "Train Accuracy: 0.9352488697478092\n",
            "Test Accuracy: 0.9381203072408734\n"
          ]
        }
      ]
    },
    {
      "cell_type": "code",
      "source": [
        "train_prediction = predictions_train.select(\"prediction\", \"label\")\n",
        "pandas_trainpred = train_prediction.toPandas()\n",
        "\n",
        "cm = confusion_matrix(pandas_trainpred['label'], pandas_trainpred['prediction'])\n",
        "plt.figure(figsize=(10, 10))\n",
        "sns.heatmap(cm, annot=True)\n",
        "plt.xlabel('Predicted')\n",
        "plt.ylabel('True')\n",
        "plt.title('Confusion Matrix')\n",
        "plt.show()"
      ],
      "metadata": {
        "colab": {
          "base_uri": "https://localhost:8080/",
          "height": 872
        },
        "id": "s7iQOrfs7YoB",
        "outputId": "25d2ec3a-d825-400b-c00a-bcf061655263"
      },
      "execution_count": 427,
      "outputs": [
        {
          "output_type": "display_data",
          "data": {
            "text/plain": [
              "<Figure size 1000x1000 with 2 Axes>"
            ],
            "image/png": "[encoded data removed]"
          },
          "metadata": {}
        }
      ]
    },
    {
      "cell_type": "code",
      "source": [
        "del pandas_trainpred"
      ],
      "metadata": {
        "id": "7xhEYJ0N7tX8"
      },
      "execution_count": 428,
      "outputs": []
    },
    {
      "cell_type": "code",
      "source": [
        "test_prediction = predictions.select(\"prediction\", \"label\")\n",
        "pandas_testpred = test_prediction.toPandas()"
      ],
      "metadata": {
        "id": "7yJQHVN54OpA"
      },
      "execution_count": 407,
      "outputs": []
    },
    {
      "cell_type": "code",
      "source": [
        "from sklearn.metrics import confusion_matrix\n",
        "import seaborn as sns"
      ],
      "metadata": {
        "id": "k88CXxUH5Cxw"
      },
      "execution_count": 408,
      "outputs": []
    },
    {
      "cell_type": "code",
      "source": [
        "test_prediction = predictions.select(\"prediction\", \"label\")\n",
        "pandas_testpred = test_prediction.toPandas()\n",
        "\n",
        "cm = confusion_matrix(pandas_testpred['label'], pandas_testpred['prediction'])\n",
        "plt.figure(figsize=(10, 10))\n",
        "sns.heatmap(cm, annot=True)\n",
        "plt.xlabel('Predicted')\n",
        "plt.ylabel('True')\n",
        "plt.title('Confusion Matrix')\n",
        "plt.show()\n"
      ],
      "metadata": {
        "colab": {
          "base_uri": "https://localhost:8080/",
          "height": 872
        },
        "id": "nkYEaV9V4-cx",
        "outputId": "b6f4a1e8-f1ca-4137-92a4-d308fbba9f4c"
      },
      "execution_count": 429,
      "outputs": [
        {
          "output_type": "display_data",
          "data": {
            "text/plain": [
              "<Figure size 1000x1000 with 2 Axes>"
            ],
            "image/png": "[encoded data removed]"
          },
          "metadata": {}
        }
      ]
    },
    {
      "cell_type": "code",
      "source": [
        "del pandas_testpred"
      ],
      "metadata": {
        "id": "ualeMqFj66PM"
      },
      "execution_count": 430,
      "outputs": []
    }
  ]
}